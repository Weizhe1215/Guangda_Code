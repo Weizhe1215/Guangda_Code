{
 "cells": [
  {
   "cell_type": "code",
   "execution_count": 1,
   "metadata": {
    "collapsed": true
   },
   "outputs": [
    {
     "name": "stdout",
     "output_type": "stream",
     "text": [
      "D:\\Anaconda\\Lib\\site-packages\\iFinDPy.pth\n"
     ]
    },
    {
     "data": {
      "text/plain": "0"
     },
     "execution_count": 1,
     "metadata": {},
     "output_type": "execute_result"
    }
   ],
   "source": [
    "# 导入同花顺包和登录同花顺\n",
    "import datetime as dt\n",
    "import pandas as pd\n",
    "from iFinDPy import *\n",
    "THS_iFinDLogin(\"gdzq6888\", \"199212\")"
   ]
  },
  {
   "cell_type": "markdown",
   "source": [
    "# 清仓天数"
   ],
   "metadata": {
    "collapsed": false
   }
  },
  {
   "cell_type": "code",
   "execution_count": 74,
   "outputs": [],
   "source": [
    "def liquidation_days(fund_code, date):\n",
    "    #获取基金持股数据\n",
    "    position_data = pd.DataFrame(THS_DP('fund_asset_allocation_stock_holding',fund_code+';'+date ,'fund_code:Y,fund_name:Y,report:Y,stock_code:Y,stock_name:Y,hold_num_stock:Y,hold_num_change_stock:Y,hold_num_ratio_float_stock:Y,hold_stock_amount:Y,net_value_ratio:Y,stock_mv_ratio:Y,investment_type:Y,management_company:Y').data)\n",
    "\n",
    "    #获取持仓股票代码\n",
    "    stock_code = str(list(position_data['stock_code'])).strip(\"[]\")\n",
    "\n",
    "    # 得到前X个月的日期字符串new_date\n",
    "    format_date = datetime.strptime(date, \"%Y-%m-%d\")\n",
    "    prev_30 = format_date-timedelta(days=30)\n",
    "    prev_30 = prev_30.strftime(\"%Y-%m-%d\")\n",
    "    prev_90 = format_date-timedelta(days=90)\n",
    "    prev_90 = prev_90.strftime(\"%Y-%m-%d\")\n",
    "    prev_180 = format_date-timedelta(days=180)\n",
    "    prev_180 = prev_180.strftime(\"%Y-%m-%d\")\n",
    "\n",
    "    # 生成前30， 90， 180天的成交额进行对比\n",
    "    deal_amount = pd.DataFrame(list(position_data['stock_code'])).rename(columns={0: \"thscode\"})\n",
    "    for i in [prev_30,prev_90,prev_180]:\n",
    "        a = THS_BD(stock_code,'ths_daily_avg_amt_int_stock',i +','+date).data\n",
    "        a = a.rename(columns={\"ths_daily_avg_amt_int_stock\": i})\n",
    "        deal_amount = pd.merge(deal_amount,a, on =\"thscode\", how=\"outer\")\n",
    "\n",
    "    # 取得三列中的最小值, 并与原数据集进行合并\n",
    "    deal_amount['min_deal_amount'] = deal_amount.iloc[:,1:4].min(axis=1)\n",
    "    deal_amount = deal_amount[['thscode', 'min_deal_amount']]\n",
    "    deal_amount = deal_amount.rename(columns={\"thscode\": \"stock_code\"})\n",
    "    merged_data = pd.merge(position_data, deal_amount, on='stock_code', how='left')\n",
    "\n",
    "    # 得到日均成交限额\n",
    "    merged_data['日均成交限额'] = merged_data['min_deal_amount'] * 0.01\n",
    "\n",
    "    # 得到清仓天数和加权清仓天数\n",
    "    merged_data['清仓天数'] = merged_data['hold_stock_amount'] * 10000 / merged_data['日均成交限额']\n",
    "    merged_data['加权清仓天数'] = merged_data['清仓天数'] * merged_data['stock_mv_ratio'] / 100\n",
    "    weighted_liquidation_days = merged_data['加权清仓天数'].sum()\n",
    "\n",
    "    print(\"基金\"+ fund_code + \"的清仓天数为\" + str(weighted_liquidation_days))+\"天\"\n",
    "\n",
    "    return"
   ],
   "metadata": {
    "collapsed": false
   }
  },
  {
   "cell_type": "code",
   "execution_count": 75,
   "outputs": [
    {
     "name": "stdout",
     "output_type": "stream",
     "text": [
      "基金003567.OF的清仓天数为152.1622635185788\n"
     ]
    }
   ],
   "source": [
    "liquidation_days('003567.OF', '2022-06-30')"
   ],
   "metadata": {
    "collapsed": false
   }
  },
  {
   "cell_type": "markdown",
   "source": [
    "# 换手率"
   ],
   "metadata": {
    "collapsed": false
   }
  },
  {
   "cell_type": "code",
   "execution_count": 42,
   "outputs": [],
   "source": [
    "def change_hand_rate(fund_code,date):\n",
    "    # 得到基金的托管费率和托管费并计算报告期平均资产规模\n",
    "    custodian_fee = THS_BD(fund_code,'ths_trustee_fee_fund;ths_mandate_fee_rate_fund',date +';').data\n",
    "    formated_date = datetime.strptime(date, \"%Y-%m-%d\")\n",
    "    ## 如果是半年报，则托管费乘以二，年报则不乘2\n",
    "    if formated_date.month == 6:\n",
    "        custodian_fee['average_asset_size'] = (custodian_fee['ths_trustee_fee_fund']*2)/(custodian_fee['ths_mandate_fee_rate_fund']/100)\n",
    "    else:\n",
    "        custodian_fee['average_asset_size'] = (custodian_fee['ths_trustee_fee_fund'])/(custodian_fee['ths_mandate_fee_rate_fund']/100)\n",
    "\n",
    "    # 得到基金的股票买入和卖出总额, 并合并数据\n",
    "    buy_sell = THS_BD(fund_code,'ths_total_buy_stock_cost_rp_fund;ths_total_sell_stock_income_rp_fund',date+';'+date).data\n",
    "    merged_data = pd.merge(buy_sell,custodian_fee,on='thscode', how='outer')\n",
    "\n",
    "    # 计算换手率\n",
    "    change_hand_rate = (merged_data['ths_total_buy_stock_cost_rp_fund']+merged_data['ths_total_sell_stock_income_rp_fund'])/merged_data['average_asset_size']\n",
    "    change_hand_rate[]\n",
    "\n",
    "    print(change_hand_rate)\n",
    "\n",
    "    return"
   ],
   "metadata": {
    "collapsed": false
   }
  },
  {
   "cell_type": "code",
   "execution_count": 43,
   "outputs": [
    {
     "name": "stdout",
     "output_type": "stream",
     "text": [
      "0    1.276102\n",
      "dtype: float64\n"
     ]
    }
   ],
   "source": [
    "change_hand_rate('003567.OF','2022-06-30')"
   ],
   "metadata": {
    "collapsed": false
   }
  },
  {
   "cell_type": "code",
   "execution_count": 37,
   "outputs": [
    {
     "name": "stdout",
     "output_type": "stream",
     "text": [
      "0    7.803471\n",
      "dtype: float64\n"
     ]
    }
   ],
   "source": [
    "change_hand_rate('003567.OF','2021-12-31')"
   ],
   "metadata": {
    "collapsed": false
   }
  },
  {
   "cell_type": "code",
   "execution_count": 38,
   "outputs": [
    {
     "name": "stdout",
     "output_type": "stream",
     "text": [
      "0    0.202917\n",
      "dtype: float64\n"
     ]
    }
   ],
   "source": [
    "change_hand_rate('003095.OF','2022-06-30')"
   ],
   "metadata": {
    "collapsed": false
   }
  },
  {
   "cell_type": "code",
   "execution_count": 39,
   "outputs": [
    {
     "name": "stdout",
     "output_type": "stream",
     "text": [
      "0    1.637787\n",
      "dtype: float64\n"
     ]
    }
   ],
   "source": [
    "change_hand_rate('003095.OF','2021-12-31')"
   ],
   "metadata": {
    "collapsed": false
   }
  },
  {
   "cell_type": "code",
   "execution_count": 44,
   "outputs": [
    {
     "name": "stdout",
     "output_type": "stream",
     "text": [
      "0    1.590544\n",
      "dtype: float64\n"
     ]
    }
   ],
   "source": [
    "change_hand_rate('000001.OF','2022-06-30')"
   ],
   "metadata": {
    "collapsed": false
   }
  },
  {
   "cell_type": "markdown",
   "source": [
    "# 超限比率"
   ],
   "metadata": {
    "collapsed": false
   }
  },
  {
   "cell_type": "code",
   "execution_count": null,
   "outputs": [],
   "source": [],
   "metadata": {
    "collapsed": false
   }
  },
  {
   "cell_type": "code",
   "execution_count": null,
   "outputs": [],
   "source": [],
   "metadata": {
    "collapsed": false
   }
  },
  {
   "cell_type": "code",
   "execution_count": null,
   "outputs": [],
   "source": [],
   "metadata": {
    "collapsed": false
   }
  },
  {
   "cell_type": "markdown",
   "source": [
    "# 以下是草稿"
   ],
   "metadata": {
    "collapsed": false
   }
  },
  {
   "cell_type": "code",
   "execution_count": 16,
   "outputs": [],
   "source": [
    "\n",
    "\n",
    "\n",
    "# 得到基金的托管费率和托管费并计算报告期平均资产规模\n",
    "custodian_fee = THS_BD('003567.OF','ths_trustee_fee_fund;ths_mandate_fee_rate_fund','2022-06-30;').data\n",
    "custodian_fee['average_asset_size'] = (custodian_fee['ths_trustee_fee_fund']*2)/(custodian_fee['ths_mandate_fee_rate_fund']/100)"
   ],
   "metadata": {
    "collapsed": false
   }
  },
  {
   "cell_type": "code",
   "execution_count": 19,
   "outputs": [],
   "source": [
    "# 得到基金的股票买入和卖出总额\n",
    "buy_sell = THS_BD('003567.OF','ths_total_buy_stock_cost_rp_fund;ths_total_sell_stock_income_rp_fund','2022-06-30;2022-06-30').data"
   ],
   "metadata": {
    "collapsed": false
   }
  },
  {
   "cell_type": "code",
   "execution_count": 22,
   "outputs": [],
   "source": [
    "merged_data = pd.merge(buy_sell,custodian_fee,on='thscode', how='outer')"
   ],
   "metadata": {
    "collapsed": false
   }
  },
  {
   "cell_type": "code",
   "execution_count": 26,
   "outputs": [],
   "source": [
    "change_hand_rate = (merged_data['ths_total_buy_stock_cost_rp_fund']+merged_data['ths_total_sell_stock_income_rp_fund'])/merged_data['average_asset_size']"
   ],
   "metadata": {
    "collapsed": false
   }
  },
  {
   "cell_type": "code",
   "execution_count": 27,
   "outputs": [
    {
     "data": {
      "text/plain": "0    1.276102\ndtype: float64"
     },
     "execution_count": 27,
     "metadata": {},
     "output_type": "execute_result"
    }
   ],
   "source": [
    "change_hand_rate"
   ],
   "metadata": {
    "collapsed": false
   }
  },
  {
   "cell_type": "code",
   "execution_count": 18,
   "outputs": [
    {
     "data": {
      "text/plain": "     thscode  ths_stock_invest_cost_fund  ths_stock_invest_fund\n0  003567.OF                9.758806e+09           9.968603e+09",
      "text/html": "<div>\n<style scoped>\n    .dataframe tbody tr th:only-of-type {\n        vertical-align: middle;\n    }\n\n    .dataframe tbody tr th {\n        vertical-align: top;\n    }\n\n    .dataframe thead th {\n        text-align: right;\n    }\n</style>\n<table border=\"1\" class=\"dataframe\">\n  <thead>\n    <tr style=\"text-align: right;\">\n      <th></th>\n      <th>thscode</th>\n      <th>ths_stock_invest_cost_fund</th>\n      <th>ths_stock_invest_fund</th>\n    </tr>\n  </thead>\n  <tbody>\n    <tr>\n      <th>0</th>\n      <td>003567.OF</td>\n      <td>9.758806e+09</td>\n      <td>9.968603e+09</td>\n    </tr>\n  </tbody>\n</table>\n</div>"
     },
     "execution_count": 18,
     "metadata": {},
     "output_type": "execute_result"
    }
   ],
   "source": [
    "THS_BD('003567.OF','ths_stock_invest_cost_fund;ths_stock_invest_fund','2022-06-30;2022-06-30').data"
   ],
   "metadata": {
    "collapsed": false
   }
  },
  {
   "cell_type": "code",
   "execution_count": null,
   "outputs": [],
   "source": [],
   "metadata": {
    "collapsed": false
   }
  }
 ],
 "metadata": {
  "kernelspec": {
   "display_name": "Python 3",
   "language": "python",
   "name": "python3"
  },
  "language_info": {
   "codemirror_mode": {
    "name": "ipython",
    "version": 2
   },
   "file_extension": ".py",
   "mimetype": "text/x-python",
   "name": "python",
   "nbconvert_exporter": "python",
   "pygments_lexer": "ipython2",
   "version": "2.7.6"
  }
 },
 "nbformat": 4,
 "nbformat_minor": 0
}

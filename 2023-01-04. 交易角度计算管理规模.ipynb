{
 "cells": [
  {
   "cell_type": "code",
   "execution_count": 3,
   "metadata": {
    "collapsed": true
   },
   "outputs": [
    {
     "name": "stdout",
     "output_type": "stream",
     "text": [
      "C:\\Users\\Xuwei\\anaconda3\\Lib\\site-packages\\iFinDPy.pth\n"
     ]
    },
    {
     "data": {
      "text/plain": "0"
     },
     "execution_count": 3,
     "metadata": {},
     "output_type": "execute_result"
    }
   ],
   "source": [
    "# 导入同花顺包和登录同花顺\n",
    "import datetime as dt\n",
    "import pandas as pd\n",
    "from iFinDPy import *\n",
    "THS_iFinDLogin(\"gdzq6888\", \"199212\")"
   ]
  },
  {
   "cell_type": "markdown",
   "source": [
    "# 清仓天数"
   ],
   "metadata": {
    "collapsed": false
   }
  },
  {
   "cell_type": "code",
   "execution_count": 4,
   "outputs": [],
   "source": [
    "def liquidation_days(fund_code, date):\n",
    "    #获取基金持股数据\n",
    "    position_data = pd.DataFrame(THS_DP('fund_asset_allocation_stock_holding',fund_code+';'+date ,'fund_code:Y,fund_name:Y,report:Y,stock_code:Y,stock_name:Y,hold_num_stock:Y,hold_num_change_stock:Y,hold_num_ratio_float_stock:Y,hold_stock_amount:Y,net_value_ratio:Y,stock_mv_ratio:Y,investment_type:Y,management_company:Y').data)\n",
    "\n",
    "    #获取持仓股票代码\n",
    "    stock_code = str(list(position_data['stock_code'])).strip(\"[]\")\n",
    "\n",
    "    # 得到前X个月的日期字符串new_date\n",
    "    format_date = datetime.strptime(date, \"%Y-%m-%d\")\n",
    "    prev_30 = format_date-timedelta(days=30)\n",
    "    prev_30 = prev_30.strftime(\"%Y-%m-%d\")\n",
    "    prev_90 = format_date-timedelta(days=90)\n",
    "    prev_90 = prev_90.strftime(\"%Y-%m-%d\")\n",
    "    prev_180 = format_date-timedelta(days=180)\n",
    "    prev_180 = prev_180.strftime(\"%Y-%m-%d\")\n",
    "\n",
    "    # 生成前30， 90， 180天的成交额进行对比\n",
    "    deal_amount = pd.DataFrame(list(position_data['stock_code'])).rename(columns={0: \"thscode\"})\n",
    "    for i in [prev_30,prev_90,prev_180]:\n",
    "        a = THS_BD(stock_code,'ths_daily_avg_amt_int_stock',i +','+date).data\n",
    "        a = a.rename(columns={\"ths_daily_avg_amt_int_stock\": i})\n",
    "        deal_amount = pd.merge(deal_amount,a, on =\"thscode\", how=\"outer\")\n",
    "\n",
    "    # 取得三列中的最小值, 并与原数据集进行合并\n",
    "    deal_amount['min_deal_amount'] = deal_amount.iloc[:,1:4].min(axis=1)\n",
    "    deal_amount = deal_amount[['thscode', 'min_deal_amount']]\n",
    "    deal_amount = deal_amount.rename(columns={\"thscode\": \"stock_code\"})\n",
    "    merged_data = pd.merge(position_data, deal_amount, on='stock_code', how='left')\n",
    "\n",
    "    # 得到日均成交限额\n",
    "    merged_data['日均成交限额'] = merged_data['min_deal_amount'] * 0.01\n",
    "\n",
    "    # 得到清仓天数和加权清仓天数\n",
    "    merged_data['清仓天数'] = merged_data['hold_stock_amount'] * 10000 / merged_data['日均成交限额']\n",
    "    merged_data['加权清仓天数'] = merged_data['清仓天数'] * merged_data['stock_mv_ratio'] / 100\n",
    "    weighted_liquidation_days = merged_data['加权清仓天数'].sum()\n",
    "\n",
    "    print(\"基金\"+ fund_code + \"的清仓天数为\" + str(weighted_liquidation_days)+)\n",
    "\n",
    "    return"
   ],
   "metadata": {
    "collapsed": false
   }
  },
  {
   "cell_type": "code",
   "execution_count": 5,
   "outputs": [
    {
     "name": "stdout",
     "output_type": "stream",
     "text": [
      "基金003567.OF的清仓天数为152.1622635185788\n"
     ]
    },
    {
     "ename": "TypeError",
     "evalue": "unsupported operand type(s) for +: 'NoneType' and 'str'",
     "output_type": "error",
     "traceback": [
      "\u001B[1;31m---------------------------------------------------------------------------\u001B[0m",
      "\u001B[1;31mTypeError\u001B[0m                                 Traceback (most recent call last)",
      "\u001B[1;32m~\\AppData\\Local\\Temp\\ipykernel_25616\\2457261974.py\u001B[0m in \u001B[0;36m<module>\u001B[1;34m\u001B[0m\n\u001B[1;32m----> 1\u001B[1;33m \u001B[0mliquidation_days\u001B[0m\u001B[1;33m(\u001B[0m\u001B[1;34m'003567.OF'\u001B[0m\u001B[1;33m,\u001B[0m \u001B[1;34m'2022-06-30'\u001B[0m\u001B[1;33m)\u001B[0m\u001B[1;33m\u001B[0m\u001B[1;33m\u001B[0m\u001B[0m\n\u001B[0m",
      "\u001B[1;32m~\\AppData\\Local\\Temp\\ipykernel_25616\\158533414.py\u001B[0m in \u001B[0;36mliquidation_days\u001B[1;34m(fund_code, date)\u001B[0m\n\u001B[0;32m     36\u001B[0m     \u001B[0mweighted_liquidation_days\u001B[0m \u001B[1;33m=\u001B[0m \u001B[0mmerged_data\u001B[0m\u001B[1;33m[\u001B[0m\u001B[1;34m'加权清仓天数'\u001B[0m\u001B[1;33m]\u001B[0m\u001B[1;33m.\u001B[0m\u001B[0msum\u001B[0m\u001B[1;33m(\u001B[0m\u001B[1;33m)\u001B[0m\u001B[1;33m\u001B[0m\u001B[1;33m\u001B[0m\u001B[0m\n\u001B[0;32m     37\u001B[0m \u001B[1;33m\u001B[0m\u001B[0m\n\u001B[1;32m---> 38\u001B[1;33m     \u001B[0mprint\u001B[0m\u001B[1;33m(\u001B[0m\u001B[1;34m\"基金\"\u001B[0m\u001B[1;33m+\u001B[0m \u001B[0mfund_code\u001B[0m \u001B[1;33m+\u001B[0m \u001B[1;34m\"的清仓天数为\"\u001B[0m \u001B[1;33m+\u001B[0m \u001B[0mstr\u001B[0m\u001B[1;33m(\u001B[0m\u001B[0mweighted_liquidation_days\u001B[0m\u001B[1;33m)\u001B[0m\u001B[1;33m)\u001B[0m\u001B[1;33m+\u001B[0m\u001B[1;34m\"天\"\u001B[0m\u001B[1;33m\u001B[0m\u001B[1;33m\u001B[0m\u001B[0m\n\u001B[0m\u001B[0;32m     39\u001B[0m \u001B[1;33m\u001B[0m\u001B[0m\n\u001B[0;32m     40\u001B[0m     \u001B[1;32mreturn\u001B[0m\u001B[1;33m\u001B[0m\u001B[1;33m\u001B[0m\u001B[0m\n",
      "\u001B[1;31mTypeError\u001B[0m: unsupported operand type(s) for +: 'NoneType' and 'str'"
     ]
    }
   ],
   "source": [
    "liquidation_days('003567.OF', '2022-06-30')"
   ],
   "metadata": {
    "collapsed": false
   }
  },
  {
   "cell_type": "markdown",
   "source": [
    "# 换手率"
   ],
   "metadata": {
    "collapsed": false
   }
  },
  {
   "cell_type": "code",
   "execution_count": 15,
   "outputs": [],
   "source": [
    "def change_hand_rate(fund_code,date):\n",
    "    # 得到基金的托管费率和托管费并计算报告期平均资产规模\n",
    "    custodian_fee = THS_BD(fund_code,'ths_trustee_fee_fund;ths_mandate_fee_rate_fund',date +';').data\n",
    "    formated_date = datetime.strptime(date, \"%Y-%m-%d\")\n",
    "    ## 如果是半年报，则托管费乘以二，年报则不乘2\n",
    "    if formated_date.month == 6:\n",
    "        custodian_fee['average_asset_size'] = (custodian_fee['ths_trustee_fee_fund']*2)/(custodian_fee['ths_mandate_fee_rate_fund']/100)\n",
    "    else:\n",
    "        custodian_fee['average_asset_size'] = (custodian_fee['ths_trustee_fee_fund'])/(custodian_fee['ths_mandate_fee_rate_fund']/100)\n",
    "\n",
    "    # 得到基金的股票买入和卖出总额, 并合并数据\n",
    "    buy_sell = THS_BD(fund_code,'ths_total_buy_stock_cost_rp_fund;ths_total_sell_stock_income_rp_fund',date+';'+date).data\n",
    "    merged_data = pd.merge(buy_sell,custodian_fee,on='thscode', how='outer')\n",
    "\n",
    "    # 计算换手率\n",
    "    change_hand_rate = (merged_data['ths_total_buy_stock_cost_rp_fund']+merged_data['ths_total_sell_stock_income_rp_fund'])/merged_data['average_asset_size']\n",
    "    change_hand_rate = change_hand_rate.iloc[0]\n",
    "\n",
    "\n",
    "    return change_hand_rate"
   ],
   "metadata": {
    "collapsed": false
   }
  },
  {
   "cell_type": "code",
   "execution_count": 16,
   "outputs": [
    {
     "data": {
      "text/plain": "1.276102354914729"
     },
     "execution_count": 16,
     "metadata": {},
     "output_type": "execute_result"
    }
   ],
   "source": [
    "change_hand_rate('003567.OF','2022-06-30')"
   ],
   "metadata": {
    "collapsed": false
   }
  },
  {
   "cell_type": "markdown",
   "source": [
    "# 超限比率"
   ],
   "metadata": {
    "collapsed": false
   }
  },
  {
   "cell_type": "code",
   "execution_count": 19,
   "outputs": [],
   "source": [
    "def overrun_ratio(fund_code,date):\n",
    "    # 计算清仓天数\n",
    "    #获取基金持股数据\n",
    "    position_data = pd.DataFrame(THS_DP('fund_asset_allocation_stock_holding',fund_code+';'+date ,'fund_code:Y,fund_name:Y,report:Y,stock_code:Y,stock_name:Y,hold_num_stock:Y,hold_num_change_stock:Y,hold_num_ratio_float_stock:Y,hold_stock_amount:Y,net_value_ratio:Y,stock_mv_ratio:Y,investment_type:Y,management_company:Y').data)\n",
    "\n",
    "    #获取持仓股票代码\n",
    "    stock_code = str(list(position_data['stock_code'])).strip(\"[]\")\n",
    "\n",
    "    # 得到前X个月的日期字符串new_date\n",
    "    format_date = datetime.strptime(date, \"%Y-%m-%d\")\n",
    "    prev_30 = format_date-timedelta(days=30)\n",
    "    prev_30 = prev_30.strftime(\"%Y-%m-%d\")\n",
    "    prev_90 = format_date-timedelta(days=90)\n",
    "    prev_90 = prev_90.strftime(\"%Y-%m-%d\")\n",
    "    prev_180 = format_date-timedelta(days=180)\n",
    "    prev_180 = prev_180.strftime(\"%Y-%m-%d\")\n",
    "\n",
    "    # 生成前30， 90， 180天的成交额进行对比\n",
    "    deal_amount = pd.DataFrame(list(position_data['stock_code'])).rename(columns={0: \"thscode\"})\n",
    "    for i in [prev_30,prev_90,prev_180]:\n",
    "        a = THS_BD(stock_code,'ths_daily_avg_amt_int_stock',i +','+date).data\n",
    "        a = a.rename(columns={\"ths_daily_avg_amt_int_stock\": i})\n",
    "        deal_amount = pd.merge(deal_amount,a, on =\"thscode\", how=\"outer\")\n",
    "\n",
    "    # 取得三列中的最小值, 并与原数据集进行合并\n",
    "    deal_amount['min_deal_amount'] = deal_amount.iloc[:,1:4].min(axis=1)\n",
    "    deal_amount = deal_amount[['thscode', 'min_deal_amount']]\n",
    "    deal_amount = deal_amount.rename(columns={\"thscode\": \"stock_code\"})\n",
    "    merged_data = pd.merge(position_data, deal_amount, on='stock_code', how='left')\n",
    "\n",
    "    # 得到日均成交限额\n",
    "    merged_data['日均成交限额'] = merged_data['min_deal_amount'] * 0.01\n",
    "\n",
    "    # 得到清仓天数和加权清仓天数\n",
    "    merged_data['清仓天数'] = merged_data['hold_stock_amount'] * 10000 / merged_data['日均成交限额']\n",
    "    merged_data['加权清仓天数'] = merged_data['清仓天数'] * merged_data['stock_mv_ratio'] / 100\n",
    "    weighted_liquidation_days = merged_data['加权清仓天数'].sum()\n",
    "\n",
    "\n",
    "\n",
    "    # 得到换手率\n",
    "    # 得到基金的托管费率和托管费并计算报告期平均资产规模\n",
    "    custodian_fee = THS_BD(fund_code,'ths_trustee_fee_fund;ths_mandate_fee_rate_fund',date +';').data\n",
    "    formated_date = datetime.strptime(date, \"%Y-%m-%d\")\n",
    "    ## 如果是半年报，则托管费乘以二，年报则不乘2\n",
    "    if formated_date.month == 6:\n",
    "        custodian_fee['average_asset_size'] = (custodian_fee['ths_trustee_fee_fund']*2)/(custodian_fee['ths_mandate_fee_rate_fund']/100)\n",
    "    else:\n",
    "        custodian_fee['average_asset_size'] = (custodian_fee['ths_trustee_fee_fund'])/(custodian_fee['ths_mandate_fee_rate_fund']/100)\n",
    "\n",
    "    # 得到基金的股票买入和卖出总额, 并合并数据\n",
    "    buy_sell = THS_BD(fund_code,'ths_total_buy_stock_cost_rp_fund;ths_total_sell_stock_income_rp_fund',date+';'+date).data\n",
    "    merged_data = pd.merge(buy_sell,custodian_fee,on='thscode', how='outer')\n",
    "\n",
    "    # 计算换手率\n",
    "    change_hand_rate = (merged_data['ths_total_buy_stock_cost_rp_fund']+merged_data['ths_total_sell_stock_income_rp_fund'])/merged_data['average_asset_size']\n",
    "    change_hand_rate = change_hand_rate.iloc[0]\n",
    "\n",
    "    # 计算持仓天数\n",
    "    hold_days = 365/change_hand_rate\n",
    "\n",
    "    # 计算超限比率\n",
    "    overrun_ratio = weighted_liquidation_days/hold_days\n",
    "\n",
    "    return weighted_liquidation_days,hold_days"
   ],
   "metadata": {
    "collapsed": false
   }
  },
  {
   "cell_type": "code",
   "execution_count": 20,
   "outputs": [
    {
     "data": {
      "text/plain": "(152.1622635185788, 286.02721293809526)"
     },
     "execution_count": 20,
     "metadata": {},
     "output_type": "execute_result"
    }
   ],
   "source": [
    "overrun_ratio('003567.OF','2022-06-30')"
   ],
   "metadata": {
    "collapsed": false
   }
  },
  {
   "cell_type": "code",
   "execution_count": null,
   "outputs": [],
   "source": [],
   "metadata": {
    "collapsed": false
   }
  }
 ],
 "metadata": {
  "kernelspec": {
   "display_name": "Python 3",
   "language": "python",
   "name": "python3"
  },
  "language_info": {
   "codemirror_mode": {
    "name": "ipython",
    "version": 2
   },
   "file_extension": ".py",
   "mimetype": "text/x-python",
   "name": "python",
   "nbconvert_exporter": "python",
   "pygments_lexer": "ipython2",
   "version": "2.7.6"
  }
 },
 "nbformat": 4,
 "nbformat_minor": 0
}

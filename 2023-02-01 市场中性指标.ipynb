{
 "cells": [
  {
   "cell_type": "code",
   "execution_count": 1,
   "outputs": [
    {
     "name": "stdout",
     "output_type": "stream",
     "text": [
      "D:\\Anaconda\\Lib\\site-packages\\iFinDPy.pth\n"
     ]
    },
    {
     "data": {
      "text/plain": "0"
     },
     "execution_count": 1,
     "metadata": {},
     "output_type": "execute_result"
    }
   ],
   "source": [
    "# 导入同花顺包和登录同花顺\n",
    "import datetime as dt\n",
    "import pandas as pd\n",
    "from numpy import *\n",
    "from iFinDPy import *\n",
    "THS_iFinDLogin(\"gdzq6888\", \"199212\")"
   ],
   "metadata": {
    "collapsed": false
   }
  },
  {
   "cell_type": "code",
   "execution_count": 126,
   "outputs": [],
   "source": [
    "from datetime import datetime, timedelta\n",
    "from dateutil.relativedelta import relativedelta\n",
    "from calendar import monthrange\n",
    "import numpy as np"
   ],
   "metadata": {
    "collapsed": false
   }
  },
  {
   "cell_type": "code",
   "execution_count": 13,
   "outputs": [],
   "source": [
    "# 定义给stock code分组的方程\n",
    "def split(list_a, chunk_size):\n",
    "    for i in range(0, len(list_a), chunk_size):\n",
    "        yield list_a[i:i + chunk_size]"
   ],
   "metadata": {
    "collapsed": false
   }
  },
  {
   "cell_type": "code",
   "execution_count": 14,
   "outputs": [],
   "source": [
    "# 定义计算相关性平均值的方程\n",
    "def find_upper_triangle(matrix):\n",
    "    mask = np.triu(np.ones(matrix.shape), k=1)\n",
    "    return matrix[mask.astype(bool)]\n",
    "\n",
    "def solve(a):\n",
    "    return find_upper_triangle(a)"
   ],
   "metadata": {
    "collapsed": false
   }
  },
  {
   "cell_type": "markdown",
   "source": [
    "# 提取数据"
   ],
   "metadata": {
    "collapsed": false
   }
  },
  {
   "cell_type": "code",
   "execution_count": 75,
   "outputs": [],
   "source": [
    "# 中证800\n",
    "CSI800 = THS_DR('p03473','iv_date=20230203;iv_zsdm=000906.SH','p03473_f001:Y,p03473_f002:Y,p03473_f003:Y','format:dataframe').data"
   ],
   "metadata": {
    "collapsed": false
   }
  },
  {
   "cell_type": "code",
   "execution_count": 79,
   "outputs": [],
   "source": [
    "# 中证800回报数据\n",
    "CSI800_return = THS_HQ('000906.SH','changeRatio,turnoverRatio,close','','2013-02-02','2023-02-02').data\n",
    "CSI800_return['lag'] =CSI800_return.groupby(['thscode'])['close'].shift(1)\n",
    "CSI800_return['return'] = (CSI800_return['close'] - CSI800_return['lag'])/CSI800_return['lag']\n",
    "CSI800_return['month'] = CSI800_return['time'].str[:7]"
   ],
   "metadata": {
    "collapsed": false
   }
  },
  {
   "cell_type": "markdown",
   "source": [
    "# 多头alpha"
   ],
   "metadata": {
    "collapsed": false
   }
  },
  {
   "cell_type": "markdown",
   "source": [
    "## 个股截面离散度"
   ],
   "metadata": {
    "collapsed": false
   }
  },
  {
   "cell_type": "code",
   "execution_count": 58,
   "outputs": [],
   "source": [
    "# 输入日期格式为’年-月‘\n",
    "def individual_stock_dispersion(time):\n",
    "    date = datetime.strptime(time, '%Y-%m')\n",
    "    days_in_month = monthrange(date.year, date.month)[1]\n",
    "    month_end = date + timedelta(days=days_in_month - date.day)\n",
    "    month_end_10years = date.replace(year=date.year-10)\n",
    "    month_end = str(month_end)[:10]\n",
    "    month_end_10years = str(month_end_10years)[:10]\n",
    "    # 获取中证800指数成分\n",
    "    data = THS_DP('index',month_end+';000906.SH','date:Y,thscode:Y').data.rename(columns={'THSCODE':'thscode'})\n",
    "    # 提取股票代码\n",
    "    stock_code = list(data['thscode'])\n",
    "    # 将股票代码分为4份\n",
    "    stock_code2 = list(split(stock_code,200))\n",
    "    #获得成分股每日价格\n",
    "    data = pd.DataFrame()\n",
    "    for i in stock_code2:\n",
    "        a = THS_HQ(i,'close','',month_end_10years,month_end).data\n",
    "        data=pd.concat([data,a])\n",
    "\n",
    "    # 计算回报\n",
    "    data['lag'] = data.groupby(['thscode'])['close'].shift(1)\n",
    "    data['return'] = (data['close']-data['lag'])/data['lag']\n",
    "    data = data.dropna()\n",
    "\n",
    "    # 计算日标准差\n",
    "    std = data.groupby(['time'])['return'].std().reset_index()\n",
    "    std = std.rename(columns={'return':'daily std'})\n",
    "    std['month'] = std['time'].str[:7]\n",
    "\n",
    "    # 得到离散度\n",
    "    std_monthly = std.groupby('month')['daily std'].mean().reset_index()\n",
    "    std_monthly = std_monthly.rename(columns={'daily std':'monthly std'})\n",
    "\n",
    "    # 计算高/低离散度\n",
    "    dispersion = list(std_monthly['monthly std'])[-1]/mean(list(std_monthly['monthly std']))\n",
    "\n",
    "    return dispersion\n"
   ],
   "metadata": {
    "collapsed": false
   }
  },
  {
   "cell_type": "code",
   "execution_count": 59,
   "outputs": [
    {
     "ename": "AttributeError",
     "evalue": "'NoneType' object has no attribute 'rename'",
     "output_type": "error",
     "traceback": [
      "\u001B[1;31m---------------------------------------------------------------------------\u001B[0m",
      "\u001B[1;31mAttributeError\u001B[0m                            Traceback (most recent call last)",
      "\u001B[1;32m~\\AppData\\Local\\Temp\\ipykernel_86248\\3804247728.py\u001B[0m in \u001B[0;36m<module>\u001B[1;34m\u001B[0m\n\u001B[1;32m----> 1\u001B[1;33m \u001B[0mindividual_stock_dispersion\u001B[0m\u001B[1;33m(\u001B[0m\u001B[1;34m'2023-01'\u001B[0m\u001B[1;33m)\u001B[0m\u001B[1;33m\u001B[0m\u001B[1;33m\u001B[0m\u001B[0m\n\u001B[0m",
      "\u001B[1;32m~\\AppData\\Local\\Temp\\ipykernel_86248\\407538212.py\u001B[0m in \u001B[0;36mindividual_stock_dispersion\u001B[1;34m(time)\u001B[0m\n\u001B[0;32m      8\u001B[0m     \u001B[0mmonth_end_10years\u001B[0m \u001B[1;33m=\u001B[0m \u001B[0mstr\u001B[0m\u001B[1;33m(\u001B[0m\u001B[0mmonth_end_10years\u001B[0m\u001B[1;33m)\u001B[0m\u001B[1;33m[\u001B[0m\u001B[1;33m:\u001B[0m\u001B[1;36m10\u001B[0m\u001B[1;33m]\u001B[0m\u001B[1;33m\u001B[0m\u001B[1;33m\u001B[0m\u001B[0m\n\u001B[0;32m      9\u001B[0m     \u001B[1;31m# 获取中证800指数成分\u001B[0m\u001B[1;33m\u001B[0m\u001B[1;33m\u001B[0m\u001B[0m\n\u001B[1;32m---> 10\u001B[1;33m     \u001B[0mdata\u001B[0m \u001B[1;33m=\u001B[0m \u001B[0mTHS_DP\u001B[0m\u001B[1;33m(\u001B[0m\u001B[1;34m'index'\u001B[0m\u001B[1;33m,\u001B[0m\u001B[0mmonth_end\u001B[0m\u001B[1;33m+\u001B[0m\u001B[1;34m';000906.SH'\u001B[0m\u001B[1;33m,\u001B[0m\u001B[1;34m'date:Y,thscode:Y'\u001B[0m\u001B[1;33m)\u001B[0m\u001B[1;33m.\u001B[0m\u001B[0mdata\u001B[0m\u001B[1;33m.\u001B[0m\u001B[0mrename\u001B[0m\u001B[1;33m(\u001B[0m\u001B[0mcolumns\u001B[0m\u001B[1;33m=\u001B[0m\u001B[1;33m{\u001B[0m\u001B[1;34m'THSCODE'\u001B[0m\u001B[1;33m:\u001B[0m\u001B[1;34m'thscode'\u001B[0m\u001B[1;33m}\u001B[0m\u001B[1;33m)\u001B[0m\u001B[1;33m\u001B[0m\u001B[1;33m\u001B[0m\u001B[0m\n\u001B[0m\u001B[0;32m     11\u001B[0m     \u001B[1;31m# 提取股票代码\u001B[0m\u001B[1;33m\u001B[0m\u001B[1;33m\u001B[0m\u001B[0m\n\u001B[0;32m     12\u001B[0m     \u001B[0mstock_code\u001B[0m \u001B[1;33m=\u001B[0m \u001B[0mlist\u001B[0m\u001B[1;33m(\u001B[0m\u001B[0mdata\u001B[0m\u001B[1;33m[\u001B[0m\u001B[1;34m'thscode'\u001B[0m\u001B[1;33m]\u001B[0m\u001B[1;33m)\u001B[0m\u001B[1;33m\u001B[0m\u001B[1;33m\u001B[0m\u001B[0m\n",
      "\u001B[1;31mAttributeError\u001B[0m: 'NoneType' object has no attribute 'rename'"
     ]
    }
   ],
   "source": [
    "individual_stock_dispersion('2023-01')"
   ],
   "metadata": {
    "collapsed": false
   }
  },
  {
   "cell_type": "code",
   "execution_count": 57,
   "outputs": [],
   "source": [],
   "metadata": {
    "collapsed": false
   }
  },
  {
   "cell_type": "code",
   "execution_count": 65,
   "outputs": [],
   "source": [
    "THS_DP('index','2023-01-31'+';000906.SH','date:Y,thscode:Y,security_name:Y,weight:Y').data"
   ],
   "metadata": {
    "collapsed": false
   }
  },
  {
   "cell_type": "code",
   "execution_count": 64,
   "outputs": [],
   "source": [
    "data"
   ],
   "metadata": {
    "collapsed": false
   }
  },
  {
   "cell_type": "code",
   "execution_count": 49,
   "outputs": [
    {
     "data": {
      "text/plain": "           time    thscode  close\n0    2020-07-27  430047.BJ   8.17\n1    2020-07-28  430047.BJ   8.17\n2    2020-07-29  430047.BJ   8.17\n3    2020-07-30  430047.BJ   8.17\n4    2020-07-31  430047.BJ   8.17\n..          ...        ...    ...\n604  2023-01-19  430047.BJ  14.66\n605  2023-01-20  430047.BJ  14.80\n606  2023-01-30  430047.BJ  14.82\n607  2023-01-31  430047.BJ  14.88\n608  2023-02-01  430047.BJ  15.51\n\n[609 rows x 3 columns]",
      "text/html": "<div>\n<style scoped>\n    .dataframe tbody tr th:only-of-type {\n        vertical-align: middle;\n    }\n\n    .dataframe tbody tr th {\n        vertical-align: top;\n    }\n\n    .dataframe thead th {\n        text-align: right;\n    }\n</style>\n<table border=\"1\" class=\"dataframe\">\n  <thead>\n    <tr style=\"text-align: right;\">\n      <th></th>\n      <th>time</th>\n      <th>thscode</th>\n      <th>close</th>\n    </tr>\n  </thead>\n  <tbody>\n    <tr>\n      <th>0</th>\n      <td>2020-07-27</td>\n      <td>430047.BJ</td>\n      <td>8.17</td>\n    </tr>\n    <tr>\n      <th>1</th>\n      <td>2020-07-28</td>\n      <td>430047.BJ</td>\n      <td>8.17</td>\n    </tr>\n    <tr>\n      <th>2</th>\n      <td>2020-07-29</td>\n      <td>430047.BJ</td>\n      <td>8.17</td>\n    </tr>\n    <tr>\n      <th>3</th>\n      <td>2020-07-30</td>\n      <td>430047.BJ</td>\n      <td>8.17</td>\n    </tr>\n    <tr>\n      <th>4</th>\n      <td>2020-07-31</td>\n      <td>430047.BJ</td>\n      <td>8.17</td>\n    </tr>\n    <tr>\n      <th>...</th>\n      <td>...</td>\n      <td>...</td>\n      <td>...</td>\n    </tr>\n    <tr>\n      <th>604</th>\n      <td>2023-01-19</td>\n      <td>430047.BJ</td>\n      <td>14.66</td>\n    </tr>\n    <tr>\n      <th>605</th>\n      <td>2023-01-20</td>\n      <td>430047.BJ</td>\n      <td>14.80</td>\n    </tr>\n    <tr>\n      <th>606</th>\n      <td>2023-01-30</td>\n      <td>430047.BJ</td>\n      <td>14.82</td>\n    </tr>\n    <tr>\n      <th>607</th>\n      <td>2023-01-31</td>\n      <td>430047.BJ</td>\n      <td>14.88</td>\n    </tr>\n    <tr>\n      <th>608</th>\n      <td>2023-02-01</td>\n      <td>430047.BJ</td>\n      <td>15.51</td>\n    </tr>\n  </tbody>\n</table>\n<p>609 rows × 3 columns</p>\n</div>"
     },
     "execution_count": 49,
     "metadata": {},
     "output_type": "execute_result"
    }
   ],
   "source": [
    "THS_HQ('430047.BJ','close','','2013-01-31','2023-02-01').data"
   ],
   "metadata": {
    "collapsed": false
   }
  },
  {
   "cell_type": "markdown",
   "source": [
    "## 行业截面离散度"
   ],
   "metadata": {
    "collapsed": false
   }
  },
  {
   "cell_type": "code",
   "execution_count": 61,
   "outputs": [],
   "source": [
    "def industry_dispersion(time):\n",
    "    date = datetime.strptime(time, '%Y-%m')\n",
    "    days_in_month = monthrange(date.year, date.month)[1]\n",
    "    month_end = date + timedelta(days=days_in_month - date.day)\n",
    "    month_end_10years = date.replace(year=date.year-10)\n",
    "    month_end = str(month_end)[:10]\n",
    "    month_end_10years = str(month_end_10years)[:10]\n",
    "\n",
    "    # 获取一级行业指数回报\n",
    "    data=THS_HQ('CI005001.CI,CI005002.CI,CI005003.CI,CI005004.CI,CI005005.CI,CI005006.CI,CI005007.CI,CI005008.CI,CI005009.CI,CI005010.CI,CI005011.CI,CI005012.CI,CI005013.CI,CI005014.CI,CI005015.CI,CI005016.CI,CI005017.CI,CI005018.CI,CI005019.CI,CI005020.CI,CI005021.CI,CI005022.CI,CI005023.CI,CI005024.CI,CI005025.CI,CI005026.CI,CI005027.CI,CI005028.CI,CI005029.CI,CI005030.CI','close','',month_end_10years,month_end).data\n",
    "\n",
    "    # 计算回报\n",
    "    data['lag'] = data.groupby(['thscode'])['close'].shift(1)\n",
    "    data['return'] = (data['close']-data['lag'])/data['lag']\n",
    "    data = data.dropna()\n",
    "\n",
    "    # 计算日标准差\n",
    "    std = data.groupby(['time'])['return'].std().reset_index()\n",
    "    std = std.rename(columns={'return':'daily std'})\n",
    "    std['month'] = std['time'].str[:7]\n",
    "\n",
    "    # 得到离散度\n",
    "    std_monthly = std.groupby('month')['daily std'].mean().reset_index()\n",
    "    std_monthly = std_monthly.rename(columns={'daily std':'monthly std'})\n",
    "\n",
    "    # 计算高/低离散度\n",
    "    dispersion = list(std_monthly['monthly std'])[-1]/mean(list(std_monthly['monthly std']))\n",
    "\n",
    "    return  dispersion\n"
   ],
   "metadata": {
    "collapsed": false
   }
  },
  {
   "cell_type": "code",
   "execution_count": 62,
   "outputs": [
    {
     "data": {
      "text/plain": "0.9181010129251563"
     },
     "execution_count": 62,
     "metadata": {},
     "output_type": "execute_result"
    }
   ],
   "source": [
    "industry_dispersion('2023-01')"
   ],
   "metadata": {
    "collapsed": false
   }
  },
  {
   "cell_type": "markdown",
   "source": [
    "## 个股相关性"
   ],
   "metadata": {
    "collapsed": false
   }
  },
  {
   "cell_type": "code",
   "execution_count": 50,
   "outputs": [],
   "source": [
    "# 输入日期格式为’年-月‘\n",
    "def stock_correlation(time):\n",
    "    date = datetime.strptime(time, '%Y-%m')\n",
    "    days_in_month = monthrange(date.year, date.month)[1]\n",
    "    month_end = date + timedelta(days=days_in_month - date.day)\n",
    "    month_end_10years = date.replace(year=date.year-10)\n",
    "    month_end = str(month_end)[:10]\n",
    "    month_end_10years = str(month_end_10years)[:10]\n",
    "    # 获取中证800指数成分\n",
    "    data = THS_DP('index_weight',month_end+';000906.SH','date:Y,thscode:Y,security_name:Y,weight:Y').data\n",
    "    # 提取股票代码\n",
    "    stock_code = list(data['thscode'])\n",
    "    # 将股票代码分为4份\n",
    "    stock_code2 = list(split(stock_code,200))\n",
    "    #获得成分股每日价格\n",
    "    data = pd.DataFrame()\n",
    "    for i in stock_code2:\n",
    "        a = THS_HQ(i,'close','',month_end_10years,month_end).data\n",
    "        data=pd.concat([data,a])\n",
    "\n",
    "    # 计算回报\n",
    "    data['lag'] = data.groupby(['thscode'])['close'].shift(1)\n",
    "    data['return'] = (data['close']-data['lag'])/data['lag']\n",
    "    data = data.dropna()\n",
    "    data['month'] = data['time'].str[:7]\n",
    "\n",
    "    # 计算相关性\n",
    "    corr_list=list()\n",
    "    for k in list(unique(data['month'])):\n",
    "        df = pd.DataFrame()\n",
    "        test = data[data['month']==k]\n",
    "        for i in list(unique(test['thscode'])):\n",
    "            a = test[test['thscode'] == i].reset_index()\n",
    "            a = a[['return']]\n",
    "            a = a.rename(columns={'return':i})\n",
    "            df = pd.concat([df,a],axis=1)\n",
    "        corr_matrix = df.corr().fillna(0).to_numpy()\n",
    "        mean_correlation = mean(solve(corr_matrix))\n",
    "        corr_list.append(mean_correlation)\n",
    "    correlation_mean = mean(corr_list)\n",
    "\n",
    "    correlation = corr_list[-1]/correlation_mean\n",
    "\n",
    "    return correlation\n",
    "\n"
   ],
   "metadata": {
    "collapsed": false
   }
  },
  {
   "cell_type": "code",
   "execution_count": 51,
   "outputs": [
    {
     "ename": "TypeError",
     "evalue": "'NoneType' object is not subscriptable",
     "output_type": "error",
     "traceback": [
      "\u001B[1;31m---------------------------------------------------------------------------\u001B[0m",
      "\u001B[1;31mTypeError\u001B[0m                                 Traceback (most recent call last)",
      "\u001B[1;32m~\\AppData\\Local\\Temp\\ipykernel_86248\\192031462.py\u001B[0m in \u001B[0;36m<module>\u001B[1;34m\u001B[0m\n\u001B[1;32m----> 1\u001B[1;33m \u001B[0mstock_correlation\u001B[0m\u001B[1;33m(\u001B[0m\u001B[1;34m'2023-01'\u001B[0m\u001B[1;33m)\u001B[0m\u001B[1;33m\u001B[0m\u001B[1;33m\u001B[0m\u001B[0m\n\u001B[0m",
      "\u001B[1;32m~\\AppData\\Local\\Temp\\ipykernel_86248\\1399599299.py\u001B[0m in \u001B[0;36mstock_correlation\u001B[1;34m(time)\u001B[0m\n\u001B[0;32m     10\u001B[0m     \u001B[0mdata\u001B[0m \u001B[1;33m=\u001B[0m \u001B[0mTHS_DP\u001B[0m\u001B[1;33m(\u001B[0m\u001B[1;34m'index_weight'\u001B[0m\u001B[1;33m,\u001B[0m\u001B[0mmonth_end\u001B[0m\u001B[1;33m+\u001B[0m\u001B[1;34m';000906.SH'\u001B[0m\u001B[1;33m,\u001B[0m\u001B[1;34m'date:Y,thscode:Y,security_name:Y,weight:Y'\u001B[0m\u001B[1;33m)\u001B[0m\u001B[1;33m.\u001B[0m\u001B[0mdata\u001B[0m\u001B[1;33m\u001B[0m\u001B[1;33m\u001B[0m\u001B[0m\n\u001B[0;32m     11\u001B[0m     \u001B[1;31m# 提取股票代码\u001B[0m\u001B[1;33m\u001B[0m\u001B[1;33m\u001B[0m\u001B[0m\n\u001B[1;32m---> 12\u001B[1;33m     \u001B[0mstock_code\u001B[0m \u001B[1;33m=\u001B[0m \u001B[0mlist\u001B[0m\u001B[1;33m(\u001B[0m\u001B[0mdata\u001B[0m\u001B[1;33m[\u001B[0m\u001B[1;34m'thscode'\u001B[0m\u001B[1;33m]\u001B[0m\u001B[1;33m)\u001B[0m\u001B[1;33m\u001B[0m\u001B[1;33m\u001B[0m\u001B[0m\n\u001B[0m\u001B[0;32m     13\u001B[0m     \u001B[1;31m# 将股票代码分为4份\u001B[0m\u001B[1;33m\u001B[0m\u001B[1;33m\u001B[0m\u001B[0m\n\u001B[0;32m     14\u001B[0m     \u001B[0mstock_code2\u001B[0m \u001B[1;33m=\u001B[0m \u001B[0mlist\u001B[0m\u001B[1;33m(\u001B[0m\u001B[0msplit\u001B[0m\u001B[1;33m(\u001B[0m\u001B[0mstock_code\u001B[0m\u001B[1;33m,\u001B[0m\u001B[1;36m200\u001B[0m\u001B[1;33m)\u001B[0m\u001B[1;33m)\u001B[0m\u001B[1;33m\u001B[0m\u001B[1;33m\u001B[0m\u001B[0m\n",
      "\u001B[1;31mTypeError\u001B[0m: 'NoneType' object is not subscriptable"
     ]
    }
   ],
   "source": [
    "stock_correlation('2023-01')"
   ],
   "metadata": {
    "collapsed": false
   }
  },
  {
   "cell_type": "markdown",
   "source": [
    "## 行业相关性"
   ],
   "metadata": {
    "collapsed": false
   }
  },
  {
   "cell_type": "code",
   "execution_count": 52,
   "outputs": [],
   "source": [
    "def industry_correlation(time):\n",
    "    date = datetime.strptime(time, '%Y-%m')\n",
    "    days_in_month = monthrange(date.year, date.month)[1]\n",
    "    month_end = date + timedelta(days=days_in_month - date.day)\n",
    "    month_end_10years = date.replace(year=date.year-10)\n",
    "    month_end = str(month_end)[:10]\n",
    "    month_end_10years = str(month_end_10years)[:10]\n",
    "\n",
    "    # 获取一级行业指数回报\n",
    "    data=THS_HQ('CI005001.CI,CI005002.CI,CI005003.CI,CI005004.CI,CI005005.CI,CI005006.CI,CI005007.CI,CI005008.CI,CI005009.CI,CI005010.CI,CI005011.CI,CI005012.CI,CI005013.CI,CI005014.CI,CI005015.CI,CI005016.CI,CI005017.CI,CI005018.CI,CI005019.CI,CI005020.CI,CI005021.CI,CI005022.CI,CI005023.CI,CI005024.CI,CI005025.CI,CI005026.CI,CI005027.CI,CI005028.CI,CI005029.CI,CI005030.CI','close','',month_end_10years,month_end).data\n",
    "\n",
    "    # 计算回报\n",
    "    data['lag'] = data.groupby(['thscode'])['close'].shift(1)\n",
    "    data['return'] = (data['close']-data['lag'])/data['lag']\n",
    "    data = data.dropna()\n",
    "    data['month'] = data['time'].str[:7]\n",
    "\n",
    "    corr_list=list()\n",
    "    for k in list(unique(data['month'])):\n",
    "        df = pd.DataFrame()\n",
    "        test = data[data['month']==k]\n",
    "        for i in list(unique(test['thscode'])):\n",
    "            a = test[test['thscode'] == i].reset_index()\n",
    "            a = a[['return']]\n",
    "            a = a.rename(columns={'return':i})\n",
    "            df = pd.concat([df,a],axis=1)\n",
    "        corr_matrix = df.corr().fillna(0).to_numpy()\n",
    "        mean_correlation = mean(solve(corr_matrix))\n",
    "        corr_list.append(mean_correlation)\n",
    "    correlation_mean = mean(corr_list)\n",
    "\n",
    "    correlation = corr_list[-1]/correlation_mean\n",
    "\n",
    "    return correlation"
   ],
   "metadata": {
    "collapsed": false
   }
  },
  {
   "cell_type": "code",
   "execution_count": 53,
   "outputs": [
    {
     "data": {
      "text/plain": "0.3673471098354658"
     },
     "execution_count": 53,
     "metadata": {},
     "output_type": "execute_result"
    }
   ],
   "source": [
    "industry_correlation('2023-01')"
   ],
   "metadata": {
    "collapsed": false
   }
  },
  {
   "cell_type": "markdown",
   "source": [
    "## 市场流动性"
   ],
   "metadata": {
    "collapsed": false
   }
  },
  {
   "cell_type": "code",
   "execution_count": 171,
   "outputs": [],
   "source": [
    "def market_liquidity(start_date, end_date, data = CSI800_return):\n",
    "    # 生成日流动性列\n",
    "    data['日低流动性'] = abs(data['changeRatio']/data['turnoverRatio'])\n",
    "    # 根据时间，从原数据表中筛选数据\n",
    "    data_start_point = str(datetime.strptime(start_date, '%Y-%m-%d')-timedelta(days = 365*5))[:10]\n",
    "    data = data[data['time']>=data_start_point]\n",
    "    # 计算月流动性\n",
    "    daily_liquidity = data.groupby('month')['日低流动性'].mean()\n",
    "    # 计算两个日期之间有多少个月\n",
    "    month_spread = relativedelta(datetime.strptime(end_date, '%Y-%m-%d'),datetime.strptime(start_date, '%Y-%m-%d')).months+1\n",
    "    # 根据两个日期之间的月份，求每个月的流动性与它前5年的比值\n",
    "    liquidity_list = list()\n",
    "    for i in range(-1,-month_spread-1,-1):\n",
    "        liquidity = daily_liquidity[i]/mean(daily_liquidity[i-60:i])\n",
    "        liquidity_list.append(liquidity)\n",
    "    liquidity_list.reverse()\n",
    "    # 生成高/低流动性判断\n",
    "    monthly_liquidity = pd.DataFrame(liquidity_list,index=daily_liquidity.index[-2:]).rename(columns= {0:'monthly_liquidity'})\n",
    "    monthly_liquidity['high/low'] = np.where(monthly_liquidity['monthly_liquidity']>=1,'低流动性','高流动性')\n",
    "\n",
    "    return monthly_liquidity"
   ],
   "metadata": {
    "collapsed": false
   }
  },
  {
   "cell_type": "code",
   "execution_count": 172,
   "outputs": [
    {
     "data": {
      "text/plain": "         monthly_liquidity high/low\nmonth                              \n2023-01           0.732683     高流动性\n2023-02           0.610809     高流动性",
      "text/html": "<div>\n<style scoped>\n    .dataframe tbody tr th:only-of-type {\n        vertical-align: middle;\n    }\n\n    .dataframe tbody tr th {\n        vertical-align: top;\n    }\n\n    .dataframe thead th {\n        text-align: right;\n    }\n</style>\n<table border=\"1\" class=\"dataframe\">\n  <thead>\n    <tr style=\"text-align: right;\">\n      <th></th>\n      <th>monthly_liquidity</th>\n      <th>high/low</th>\n    </tr>\n    <tr>\n      <th>month</th>\n      <th></th>\n      <th></th>\n    </tr>\n  </thead>\n  <tbody>\n    <tr>\n      <th>2023-01</th>\n      <td>0.732683</td>\n      <td>高流动性</td>\n    </tr>\n    <tr>\n      <th>2023-02</th>\n      <td>0.610809</td>\n      <td>高流动性</td>\n    </tr>\n  </tbody>\n</table>\n</div>"
     },
     "execution_count": 172,
     "metadata": {},
     "output_type": "execute_result"
    }
   ],
   "source": [
    "market_liquidity('2022-12-15','2023-01-21')"
   ],
   "metadata": {
    "collapsed": false
   }
  }
 ],
 "metadata": {
  "kernelspec": {
   "display_name": "Python 3",
   "language": "python",
   "name": "python3"
  },
  "language_info": {
   "codemirror_mode": {
    "name": "ipython",
    "version": 2
   },
   "file_extension": ".py",
   "mimetype": "text/x-python",
   "name": "python",
   "nbconvert_exporter": "python",
   "pygments_lexer": "ipython2",
   "version": "2.7.6"
  }
 },
 "nbformat": 4,
 "nbformat_minor": 0
}

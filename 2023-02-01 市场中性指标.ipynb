{
 "cells": [
  {
   "cell_type": "code",
   "execution_count": 1,
   "outputs": [
    {
     "name": "stdout",
     "output_type": "stream",
     "text": [
      "C:\\Users\\Xuwei\\anaconda3\\Lib\\site-packages\\iFinDPy.pth\n"
     ]
    },
    {
     "data": {
      "text/plain": "0"
     },
     "execution_count": 1,
     "metadata": {},
     "output_type": "execute_result"
    }
   ],
   "source": [
    "# 导入同花顺包和登录同花顺\n",
    "import datetime as dt\n",
    "import pandas as pd\n",
    "from numpy import *\n",
    "from iFinDPy import *\n",
    "THS_iFinDLogin(\"gdzq6888\", \"199212\")"
   ],
   "metadata": {
    "collapsed": false
   }
  },
  {
   "cell_type": "code",
   "execution_count": 2,
   "outputs": [],
   "source": [
    "from datetime import datetime\n",
    "from calendar import monthrange\n",
    "import numpy as np"
   ],
   "metadata": {
    "collapsed": false
   }
  },
  {
   "cell_type": "code",
   "execution_count": 3,
   "outputs": [],
   "source": [
    "# 定义给stock code分组的方程\n",
    "def split(list_a, chunk_size):\n",
    "    for i in range(0, len(list_a), chunk_size):\n",
    "        yield list_a[i:i + chunk_size]"
   ],
   "metadata": {
    "collapsed": false
   }
  },
  {
   "cell_type": "code",
   "execution_count": 8,
   "outputs": [],
   "source": [
    "# 定义计算相关性平均值的方程\n",
    "def find_upper_triangle(matrix):\n",
    "    mask = np.triu(np.ones(matrix.shape), k=1)\n",
    "    return matrix[mask.astype(bool)]\n",
    "\n",
    "def solve(a):\n",
    "    return find_upper_triangle(a)"
   ],
   "metadata": {
    "collapsed": false
   }
  },
  {
   "cell_type": "markdown",
   "source": [
    "# 多头alpha"
   ],
   "metadata": {
    "collapsed": false
   }
  },
  {
   "cell_type": "markdown",
   "source": [
    "## 个股截面离散度"
   ],
   "metadata": {
    "collapsed": false
   }
  },
  {
   "cell_type": "code",
   "execution_count": 28,
   "outputs": [],
   "source": [
    "# 输入日期格式为’年-月‘\n",
    "def individual_stock_dispersion(time):\n",
    "    date = datetime.strptime(time, '%Y-%m')\n",
    "    days_in_month = monthrange(date.year, date.month)[1]\n",
    "    month_end = date + timedelta(days=days_in_month - date.day)\n",
    "    month_end_10years = date.replace(year=date.year-10)\n",
    "    month_end = str(month_end)[:10]\n",
    "    month_end_10years = str(month_end_10years)[:10]\n",
    "    # 获取中证800指数成分\n",
    "    data = THS_DP('index_weight',month_end+';000906.SH','date:Y,thscode:Y,security_name:Y,weight:Y').data\n",
    "    # 提取股票代码\n",
    "    stock_code = list(data['thscode'])\n",
    "    # 将股票代码分为4份\n",
    "    stock_code2 = list(split(stock_code,200))\n",
    "    #获得成分股每日价格\n",
    "    data = pd.DataFrame()\n",
    "    for i in stock_code2:\n",
    "        a = THS_HQ(i,'close','',month_end_10years,month_end).data\n",
    "        data=pd.concat([data,a])\n",
    "    # 加入月，日\n",
    "    data['year'] = data['time'].apply(lambda x: x.split('-')[0])\n",
    "    data['month'] = data['time'].apply(lambda x: x.split('-')[1])\n",
    "    # 计算回报\n",
    "    data['lag'] = data.groupby(['thscode'])['close'].shift(1)\n",
    "    data['return'] = (data['close']-data['lag'])/data['lag']\n",
    "    data = data.dropna()\n",
    "\n",
    "    # 计算日标准差\n",
    "    std = data.groupby(['time'])['return'].std().reset_index()\n",
    "    std = std.rename(columns={'return':'daily std'})\n",
    "    std['month'] = std['time'].str[:7]\n",
    "\n",
    "    # 得到离散度\n",
    "    std_monthly = std.groupby('month')['daily std'].mean().reset_index()\n",
    "    std_monthly = std_monthly.rename(columns={'daily std':'monthly std'})\n",
    "\n",
    "    # 计算高/低离散度\n",
    "    dispersion = list(std_monthly['monthly std'])[-1]/mean(list(std_monthly['monthly std']))\n",
    "\n",
    "    return dispersion\n"
   ],
   "metadata": {
    "collapsed": false
   }
  },
  {
   "cell_type": "code",
   "execution_count": 30,
   "outputs": [
    {
     "data": {
      "text/plain": "0.7584548441638147"
     },
     "execution_count": 30,
     "metadata": {},
     "output_type": "execute_result"
    }
   ],
   "source": [
    "individual_stock_dispersion('2023-01')"
   ],
   "metadata": {
    "collapsed": false
   }
  },
  {
   "cell_type": "markdown",
   "source": [
    "## 行业截面离散度"
   ],
   "metadata": {
    "collapsed": false
   }
  },
  {
   "cell_type": "code",
   "execution_count": 10,
   "outputs": [],
   "source": [
    "def industry_dispersion(time):\n",
    "    date = datetime.strptime(time, '%Y-%m')\n",
    "    days_in_month = monthrange(date.year, date.month)[1]\n",
    "    month_end = date + timedelta(days=days_in_month - date.day)\n",
    "    month_end_10years = date.replace(year=date.year-10)\n",
    "    month_end = str(month_end)[:10]\n",
    "    month_end_10years = str(month_end_10years)[:10]\n",
    "\n",
    "    # 获取一级行业指数回报\n",
    "    data=THS_HQ('CI005001.CI,CI005002.CI,CI005003.CI,CI005004.CI,CI005005.CI,CI005006.CI,CI005007.CI,CI005008.CI,CI005009.CI,CI005010.CI,CI005011.CI,CI005012.CI,CI005013.CI,CI005014.CI,CI005015.CI,CI005016.CI,CI005017.CI,CI005018.CI,CI005019.CI,CI005020.CI,CI005021.CI,CI005022.CI,CI005023.CI,CI005024.CI,CI005025.CI,CI005026.CI,CI005027.CI,CI005028.CI,CI005029.CI,CI005030.CI','close','',month_end_10years,month_end).data\n",
    "\n",
    "    # 计算回报\n",
    "    data['lag'] = data.groupby(['thscode'])['close'].shift(1)\n",
    "    data['return'] = (data['close']-data['lag'])/data['lag']\n",
    "    data = data.dropna()\n",
    "\n",
    "    # 计算日标准差\n",
    "    std = data.groupby(['time'])['return'].std().reset_index()\n",
    "    std = std.rename(columns={'return':'daily std'})\n",
    "    std['month'] = std['time'].str[:7]\n",
    "\n",
    "    # 得到离散度\n",
    "    std_monthly = std.groupby('month')['daily std'].mean().reset_index()\n",
    "    std_monthly = std_monthly.rename(columns={'daily std':'monthly std'})\n",
    "\n",
    "    # 计算高/低离散度\n",
    "    dispersion = list(std_monthly['monthly std'])[-1]/mean(list(std_monthly['monthly std']))\n",
    "\n",
    "    return  dispersion\n"
   ],
   "metadata": {
    "collapsed": false
   }
  },
  {
   "cell_type": "code",
   "execution_count": 11,
   "outputs": [
    {
     "data": {
      "text/plain": "0.9762148769812952"
     },
     "execution_count": 11,
     "metadata": {},
     "output_type": "execute_result"
    }
   ],
   "source": [
    "industry_dispersion('2023-01')"
   ],
   "metadata": {
    "collapsed": false
   }
  },
  {
   "cell_type": "markdown",
   "source": [
    "## 个股相关性"
   ],
   "metadata": {
    "collapsed": false
   }
  },
  {
   "cell_type": "code",
   "execution_count": 12,
   "outputs": [],
   "source": [
    "# 输入日期格式为’年-月‘\n",
    "def stock_correlation(time):\n",
    "    date = datetime.strptime(time, '%Y-%m')\n",
    "    days_in_month = monthrange(date.year, date.month)[1]\n",
    "    month_end = date + timedelta(days=days_in_month - date.day)\n",
    "    month_end_10years = date.replace(year=date.year-10)\n",
    "    month_end = str(month_end)[:10]\n",
    "    month_end_10years = str(month_end_10years)[:10]\n",
    "    # 获取中证800指数成分\n",
    "    data = THS_DP('index_weight',month_end+';000906.SH','date:Y,thscode:Y,security_name:Y,weight:Y').data\n",
    "    # 提取股票代码\n",
    "    stock_code = list(data['thscode'])\n",
    "    # 将股票代码分为4份\n",
    "    stock_code2 = list(split(stock_code,200))\n",
    "    #获得成分股每日价格\n",
    "    data = pd.DataFrame()\n",
    "    for i in stock_code2:\n",
    "        a = THS_HQ(i,'close','',month_end_10years,month_end).data\n",
    "        data=pd.concat([data,a])\n",
    "\n",
    "    # 计算回报\n",
    "    data['lag'] = data.groupby(['thscode'])['close'].shift(1)\n",
    "    data['return'] = (data['close']-data['lag'])/data['lag']\n",
    "    data = data.dropna()\n",
    "    data['month'] = data['time'].str[:7]\n",
    "\n",
    "    # 计算相关性\n",
    "    corr_list=list()\n",
    "    for k in list(unique(data['month'])):\n",
    "        df = pd.DataFrame()\n",
    "        test = data[data['month']==k]\n",
    "        for i in list(unique(test['thscode'])):\n",
    "            a = test[test['thscode'] == i].reset_index()\n",
    "            a = a[['return']]\n",
    "            a = a.rename(columns={'return':i})\n",
    "            df = pd.concat([df,a],axis=1)\n",
    "        corr_matrix = df.corr().fillna(0).to_numpy()\n",
    "        mean_correlation = mean(solve(corr_matrix))\n",
    "        corr_list.append(mean_correlation)\n",
    "    correlation_mean = mean(corr_list)\n",
    "\n",
    "    correlation = corr_list[-1]/correlation_mean\n",
    "\n",
    "    return correlation\n",
    "\n"
   ],
   "metadata": {
    "collapsed": false
   }
  },
  {
   "cell_type": "code",
   "execution_count": 13,
   "outputs": [
    {
     "data": {
      "text/plain": "0.3746244164380103"
     },
     "execution_count": 13,
     "metadata": {},
     "output_type": "execute_result"
    }
   ],
   "source": [
    "stock_correlation('2023-01')"
   ],
   "metadata": {
    "collapsed": false
   }
  },
  {
   "cell_type": "markdown",
   "source": [
    "## 行业相关性"
   ],
   "metadata": {
    "collapsed": false
   }
  },
  {
   "cell_type": "code",
   "execution_count": 16,
   "outputs": [],
   "source": [
    "def industry_correlation(time):\n",
    "    date = datetime.strptime(time, '%Y-%m')\n",
    "    days_in_month = monthrange(date.year, date.month)[1]\n",
    "    month_end = date + timedelta(days=days_in_month - date.day)\n",
    "    month_end_10years = date.replace(year=date.year-10)\n",
    "    month_end = str(month_end)[:10]\n",
    "    month_end_10years = str(month_end_10years)[:10]\n",
    "\n",
    "    # 获取一级行业指数回报\n",
    "    data=THS_HQ('CI005001.CI,CI005002.CI,CI005003.CI,CI005004.CI,CI005005.CI,CI005006.CI,CI005007.CI,CI005008.CI,CI005009.CI,CI005010.CI,CI005011.CI,CI005012.CI,CI005013.CI,CI005014.CI,CI005015.CI,CI005016.CI,CI005017.CI,CI005018.CI,CI005019.CI,CI005020.CI,CI005021.CI,CI005022.CI,CI005023.CI,CI005024.CI,CI005025.CI,CI005026.CI,CI005027.CI,CI005028.CI,CI005029.CI,CI005030.CI','close','',month_end_10years,month_end).data\n",
    "\n",
    "    # 计算回报\n",
    "    data['lag'] = data.groupby(['thscode'])['close'].shift(1)\n",
    "    data['return'] = (data['close']-data['lag'])/data['lag']\n",
    "    data = data.dropna()\n",
    "    data['month'] = data['time'].str[:7]\n",
    "\n",
    "    corr_list=list()\n",
    "    for k in list(unique(data['month'])):\n",
    "        df = pd.DataFrame()\n",
    "        test = data[data['month']==k]\n",
    "        for i in list(unique(test['thscode'])):\n",
    "            a = test[test['thscode'] == i].reset_index()\n",
    "            a = a[['return']]\n",
    "            a = a.rename(columns={'return':i})\n",
    "            df = pd.concat([df,a],axis=1)\n",
    "        corr_matrix = df.corr().fillna(0).to_numpy()\n",
    "        mean_correlation = mean(solve(corr_matrix))\n",
    "        corr_list.append(mean_correlation)\n",
    "    correlation_mean = mean(corr_list)\n",
    "\n",
    "    correlation = corr_list[-1]/correlation_mean\n",
    "\n",
    "    return correlation"
   ],
   "metadata": {
    "collapsed": false
   }
  },
  {
   "cell_type": "code",
   "execution_count": 18,
   "outputs": [
    {
     "data": {
      "text/plain": "0.3376035150682084"
     },
     "execution_count": 18,
     "metadata": {},
     "output_type": "execute_result"
    }
   ],
   "source": [
    "industry_correlation('2023-01')"
   ],
   "metadata": {
    "collapsed": false
   }
  },
  {
   "cell_type": "markdown",
   "source": [
    "## 市场流动性"
   ],
   "metadata": {
    "collapsed": false
   }
  },
  {
   "cell_type": "code",
   "execution_count": null,
   "outputs": [],
   "source": [],
   "metadata": {
    "collapsed": false
   }
  }
 ],
 "metadata": {
  "kernelspec": {
   "display_name": "Python 3",
   "language": "python",
   "name": "python3"
  },
  "language_info": {
   "codemirror_mode": {
    "name": "ipython",
    "version": 2
   },
   "file_extension": ".py",
   "mimetype": "text/x-python",
   "name": "python",
   "nbconvert_exporter": "python",
   "pygments_lexer": "ipython2",
   "version": "2.7.6"
  }
 },
 "nbformat": 4,
 "nbformat_minor": 0
}

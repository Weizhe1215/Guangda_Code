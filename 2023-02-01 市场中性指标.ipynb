{
 "cells": [
  {
   "cell_type": "code",
   "execution_count": 6,
   "outputs": [
    {
     "data": {
      "text/plain": "0"
     },
     "execution_count": 6,
     "metadata": {},
     "output_type": "execute_result"
    }
   ],
   "source": [
    "# 导入同花顺包和登录同花顺\n",
    "import datetime as dt\n",
    "import pandas as pd\n",
    "from numpy import *\n",
    "from iFinDPy import *\n",
    "THS_iFinDLogin(\"gdzq6888\", \"199212\")"
   ],
   "metadata": {
    "collapsed": false
   }
  },
  {
   "cell_type": "code",
   "execution_count": 51,
   "outputs": [],
   "source": [
    "from datetime import datetime\n",
    "from calendar import monthrange\n",
    "import numpy as np"
   ],
   "metadata": {
    "collapsed": false
   }
  },
  {
   "cell_type": "code",
   "execution_count": 7,
   "outputs": [],
   "source": [
    "def split(list_a, chunk_size):\n",
    "    for i in range(0, len(list_a), chunk_size):\n",
    "        yield list_a[i:i + chunk_size]"
   ],
   "metadata": {
    "collapsed": false
   }
  },
  {
   "cell_type": "markdown",
   "source": [
    "# 多头alpha"
   ],
   "metadata": {
    "collapsed": false
   }
  },
  {
   "cell_type": "markdown",
   "source": [
    "## 个股截面离散度"
   ],
   "metadata": {
    "collapsed": false
   }
  },
  {
   "cell_type": "code",
   "execution_count": 28,
   "outputs": [],
   "source": [
    "# 输入日期格式为’年-月‘\n",
    "def individual_stock_dispersion(time):\n",
    "    date = datetime.strptime(time, '%Y-%m')\n",
    "    days_in_month = monthrange(date.year, date.month)[1]\n",
    "    month_end = date + timedelta(days=days_in_month - date.day)\n",
    "    month_end_10years = date.replace(year=date.year-10)\n",
    "    month_end = str(month_end)[:10]\n",
    "    month_end_10years = str(month_end_10years)[:10]\n",
    "    # 获取中证800指数成分\n",
    "    data = THS_DP('index_weight',month_end+';000906.SH','date:Y,thscode:Y,security_name:Y,weight:Y').data\n",
    "    # 提取股票代码\n",
    "    stock_code = list(data['thscode'])\n",
    "    # 将股票代码分为4份\n",
    "    stock_code2 = list(split(stock_code,200))\n",
    "    #获得成分股每日价格\n",
    "    data = pd.DataFrame()\n",
    "    for i in stock_code2:\n",
    "        a = THS_HQ(i,'close','',month_end_10years,month_end).data\n",
    "        data=pd.concat([data,a])\n",
    "    # 加入月，日\n",
    "    data['year'] = data['time'].apply(lambda x: x.split('-')[0])\n",
    "    data['month'] = data['time'].apply(lambda x: x.split('-')[1])\n",
    "    # 计算回报\n",
    "    data['lag'] = data.groupby(['thscode'])['close'].shift(1)\n",
    "    data['return'] = (data['close']-data['lag'])/data['lag']\n",
    "    data = data.dropna()\n",
    "\n",
    "    # 计算日标准差\n",
    "    std = data.groupby(['time'])['return'].std().reset_index()\n",
    "    std = std.rename(columns={'return':'daily std'})\n",
    "    std['month'] = std['time'].str[:7]\n",
    "\n",
    "    # 得到离散度\n",
    "    std_monthly = std.groupby('month')['daily std'].mean().reset_index()\n",
    "    std_monthly = std_monthly.rename(columns={'daily std':'monthly std'})\n",
    "\n",
    "    # 计算高/低离散度\n",
    "    dispersion = list(std_monthly['monthly std'])[-1]/mean(list(std_monthly['monthly std']))\n",
    "\n",
    "    return dispersion\n"
   ],
   "metadata": {
    "collapsed": false
   }
  },
  {
   "cell_type": "code",
   "execution_count": 30,
   "outputs": [
    {
     "data": {
      "text/plain": "0.7584548441638147"
     },
     "execution_count": 30,
     "metadata": {},
     "output_type": "execute_result"
    }
   ],
   "source": [
    "individual_stock_dispersion('2023-01')"
   ],
   "metadata": {
    "collapsed": false
   }
  },
  {
   "cell_type": "markdown",
   "source": [
    "## 行业截面离散度"
   ],
   "metadata": {
    "collapsed": false
   }
  },
  {
   "cell_type": "code",
   "execution_count": 42,
   "outputs": [],
   "source": [
    "def industry_dispersion(time):\n",
    "    date = datetime.strptime(time, '%Y-%m')\n",
    "    days_in_month = monthrange(date.year, date.month)[1]\n",
    "    month_end = date + timedelta(days=days_in_month - date.day)\n",
    "    month_end_10years = date.replace(year=date.year-10)\n",
    "    month_end = str(month_end)[:10]\n",
    "    month_end_10years = str(month_end_10years)[:10]\n",
    "\n",
    "    # 获取一级行业指数回报\n",
    "    data=THS_HQ('CI005001.CI,CI005002.CI,CI005003.CI,CI005004.CI,CI005005.CI,CI005006.CI,CI005007.CI,CI005008.CI,CI005009.CI,CI005010.CI,CI005011.CI,CI005012.CI,CI005013.CI,CI005014.CI,CI005015.CI,CI005016.CI,CI005017.CI,CI005018.CI,CI005019.CI,CI005020.CI,CI005021.CI,CI005022.CI,CI005023.CI,CI005024.CI,CI005025.CI,CI005026.CI,CI005027.CI,CI005028.CI,CI005029.CI,CI005030.CI','close','',month_end_10years,month_end).data\n",
    "\n",
    "    # 计算回报\n",
    "    data['lag'] = data.groupby(['thscode'])['close'].shift(1)\n",
    "    data['return'] = (data['close']-data['lag'])/data['lag']\n",
    "    data = data.dropna()\n",
    "\n",
    "    # 计算日标准差\n",
    "    std = data.groupby(['time'])['return'].std().reset_index()\n",
    "    std = std.rename(columns={'return':'daily std'})\n",
    "    std['month'] = std['time'].str[:7]\n",
    "\n",
    "    # 得到离散度\n",
    "    std_monthly = std.groupby('month')['daily std'].mean().reset_index()\n",
    "    std_monthly = std_monthly.rename(columns={'daily std':'monthly std'})\n",
    "\n",
    "    # 计算高/低离散度\n",
    "    dispersion = list(std_monthly['monthly std'])[-1]/mean(list(std_monthly['monthly std']))\n",
    "\n",
    "    return  dispersion\n"
   ],
   "metadata": {
    "collapsed": false
   }
  },
  {
   "cell_type": "code",
   "execution_count": 43,
   "outputs": [
    {
     "data": {
      "text/plain": "0.9762148769812952"
     },
     "execution_count": 43,
     "metadata": {},
     "output_type": "execute_result"
    }
   ],
   "source": [
    "industry_dispersion('2023-01')"
   ],
   "metadata": {
    "collapsed": false
   }
  },
  {
   "cell_type": "markdown",
   "source": [
    "## 个股相关性"
   ],
   "metadata": {
    "collapsed": false
   }
  },
  {
   "cell_type": "code",
   "execution_count": 55,
   "outputs": [],
   "source": [
    "# 输入日期格式为’年-月‘\n",
    "def stock_correlation(time):\n",
    "    date = datetime.strptime(time, '%Y-%m')\n",
    "    days_in_month = monthrange(date.year, date.month)[1]\n",
    "    month_end = date + timedelta(days=days_in_month - date.day)\n",
    "    month_end_10years = date.replace(year=date.year-10)\n",
    "    month_end = str(month_end)[:10]\n",
    "    month_end_10years = str(month_end_10years)[:10]\n",
    "    # 获取中证800指数成分\n",
    "    data = THS_DP('index_weight',month_end+';000906.SH','date:Y,thscode:Y,security_name:Y,weight:Y').data\n",
    "    # 提取股票代码\n",
    "    stock_code = list(data['thscode'])\n",
    "    # 将股票代码分为4份\n",
    "    stock_code2 = list(split(stock_code,200))\n",
    "    #获得成分股每日价格\n",
    "    data = pd.DataFrame()\n",
    "    for i in stock_code2:\n",
    "        a = THS_HQ(i,'close','',month_end_10years,month_end).data\n",
    "        data=pd.concat([data,a])\n",
    "\n",
    "    # 计算回报\n",
    "    data['lag'] = data.groupby(['thscode'])['close'].shift(1)\n",
    "    data['return'] = (data['close']-data['lag'])/data['lag']\n",
    "    data = data.dropna()\n",
    "\n",
    "    return data\n",
    "\n"
   ],
   "metadata": {
    "collapsed": false
   }
  },
  {
   "cell_type": "code",
   "execution_count": 56,
   "outputs": [],
   "source": [
    "data = stock_correlation('2023-01')"
   ],
   "metadata": {
    "collapsed": false
   }
  },
  {
   "cell_type": "code",
   "execution_count": 57,
   "outputs": [
    {
     "data": {
      "text/plain": "              time    thscode   close     lag    return\n1       2013-01-07  600519.SH  204.29  206.94 -0.012806\n2       2013-01-08  600519.SH  210.84  204.29  0.032062\n3       2013-01-09  600519.SH  216.45  210.84  0.026608\n4       2013-01-10  600519.SH  214.50  216.45 -0.009009\n5       2013-01-11  600519.SH  211.26  214.50 -0.015105\n...            ...        ...     ...     ...       ...\n392740  2023-01-18  002901.SZ   36.80   36.91 -0.002980\n392741  2023-01-19  002901.SZ   37.15   36.80  0.009511\n392742  2023-01-20  002901.SZ   36.91   37.15 -0.006460\n392743  2023-01-30  002901.SZ   37.24   36.91  0.008941\n392744  2023-01-31  002901.SZ   35.79   37.24 -0.038937\n\n[1630822 rows x 5 columns]",
      "text/html": "<div>\n<style scoped>\n    .dataframe tbody tr th:only-of-type {\n        vertical-align: middle;\n    }\n\n    .dataframe tbody tr th {\n        vertical-align: top;\n    }\n\n    .dataframe thead th {\n        text-align: right;\n    }\n</style>\n<table border=\"1\" class=\"dataframe\">\n  <thead>\n    <tr style=\"text-align: right;\">\n      <th></th>\n      <th>time</th>\n      <th>thscode</th>\n      <th>close</th>\n      <th>lag</th>\n      <th>return</th>\n    </tr>\n  </thead>\n  <tbody>\n    <tr>\n      <th>1</th>\n      <td>2013-01-07</td>\n      <td>600519.SH</td>\n      <td>204.29</td>\n      <td>206.94</td>\n      <td>-0.012806</td>\n    </tr>\n    <tr>\n      <th>2</th>\n      <td>2013-01-08</td>\n      <td>600519.SH</td>\n      <td>210.84</td>\n      <td>204.29</td>\n      <td>0.032062</td>\n    </tr>\n    <tr>\n      <th>3</th>\n      <td>2013-01-09</td>\n      <td>600519.SH</td>\n      <td>216.45</td>\n      <td>210.84</td>\n      <td>0.026608</td>\n    </tr>\n    <tr>\n      <th>4</th>\n      <td>2013-01-10</td>\n      <td>600519.SH</td>\n      <td>214.50</td>\n      <td>216.45</td>\n      <td>-0.009009</td>\n    </tr>\n    <tr>\n      <th>5</th>\n      <td>2013-01-11</td>\n      <td>600519.SH</td>\n      <td>211.26</td>\n      <td>214.50</td>\n      <td>-0.015105</td>\n    </tr>\n    <tr>\n      <th>...</th>\n      <td>...</td>\n      <td>...</td>\n      <td>...</td>\n      <td>...</td>\n      <td>...</td>\n    </tr>\n    <tr>\n      <th>392740</th>\n      <td>2023-01-18</td>\n      <td>002901.SZ</td>\n      <td>36.80</td>\n      <td>36.91</td>\n      <td>-0.002980</td>\n    </tr>\n    <tr>\n      <th>392741</th>\n      <td>2023-01-19</td>\n      <td>002901.SZ</td>\n      <td>37.15</td>\n      <td>36.80</td>\n      <td>0.009511</td>\n    </tr>\n    <tr>\n      <th>392742</th>\n      <td>2023-01-20</td>\n      <td>002901.SZ</td>\n      <td>36.91</td>\n      <td>37.15</td>\n      <td>-0.006460</td>\n    </tr>\n    <tr>\n      <th>392743</th>\n      <td>2023-01-30</td>\n      <td>002901.SZ</td>\n      <td>37.24</td>\n      <td>36.91</td>\n      <td>0.008941</td>\n    </tr>\n    <tr>\n      <th>392744</th>\n      <td>2023-01-31</td>\n      <td>002901.SZ</td>\n      <td>35.79</td>\n      <td>37.24</td>\n      <td>-0.038937</td>\n    </tr>\n  </tbody>\n</table>\n<p>1630822 rows × 5 columns</p>\n</div>"
     },
     "execution_count": 57,
     "metadata": {},
     "output_type": "execute_result"
    }
   ],
   "source": [
    "data"
   ],
   "metadata": {
    "collapsed": false
   }
  },
  {
   "cell_type": "code",
   "execution_count": 58,
   "outputs": [],
   "source": [
    "grouped_data = data.groupby('time')"
   ],
   "metadata": {
    "collapsed": false
   }
  },
  {
   "cell_type": "code",
   "execution_count": 52,
   "outputs": [
    {
     "name": "stderr",
     "output_type": "stream",
     "text": [
      "D:\\Anaconda\\lib\\site-packages\\numpy\\lib\\function_base.py:2683: RuntimeWarning: Degrees of freedom <= 0 for slice\n",
      "  c = cov(x, y, rowvar, dtype=dtype)\n",
      "D:\\Anaconda\\lib\\site-packages\\numpy\\lib\\function_base.py:2542: RuntimeWarning: divide by zero encountered in true_divide\n",
      "  c *= np.true_divide(1, fact)\n",
      "D:\\Anaconda\\lib\\site-packages\\numpy\\lib\\function_base.py:2542: RuntimeWarning: invalid value encountered in multiply\n",
      "  c *= np.true_divide(1, fact)\n"
     ]
    }
   ],
   "source": [
    "# sample data\n",
    "data = {'group': ['A', 'B', 'A', 'B', 'B', 'C'],\n",
    "        'var1': [1, 2, 3, 4, 5, 6],\n",
    "        'var2': [10, 20, 30, 40, 50, 60]}\n",
    "df = pd.DataFrame(data)\n",
    "\n",
    "# group by 'group' column\n",
    "grouped = df.groupby('group')\n",
    "\n",
    "# calculate average correlation between each group\n",
    "correlations = []\n",
    "for name, group in grouped:\n",
    "    var1 = group['var1']\n",
    "    var2 = group['var2']\n",
    "    correlations.append(np.corrcoef(var1, var2)[0][1])\n",
    "\n",
    "average_correlation = np.mean(correlations)"
   ],
   "metadata": {
    "collapsed": false
   }
  },
  {
   "cell_type": "code",
   "execution_count": 53,
   "outputs": [
    {
     "data": {
      "text/plain": "  group  var1  var2\n0     A     1    10\n1     B     2    20\n2     A     3    30\n3     B     4    40\n4     B     5    50\n5     C     6    60",
      "text/html": "<div>\n<style scoped>\n    .dataframe tbody tr th:only-of-type {\n        vertical-align: middle;\n    }\n\n    .dataframe tbody tr th {\n        vertical-align: top;\n    }\n\n    .dataframe thead th {\n        text-align: right;\n    }\n</style>\n<table border=\"1\" class=\"dataframe\">\n  <thead>\n    <tr style=\"text-align: right;\">\n      <th></th>\n      <th>group</th>\n      <th>var1</th>\n      <th>var2</th>\n    </tr>\n  </thead>\n  <tbody>\n    <tr>\n      <th>0</th>\n      <td>A</td>\n      <td>1</td>\n      <td>10</td>\n    </tr>\n    <tr>\n      <th>1</th>\n      <td>B</td>\n      <td>2</td>\n      <td>20</td>\n    </tr>\n    <tr>\n      <th>2</th>\n      <td>A</td>\n      <td>3</td>\n      <td>30</td>\n    </tr>\n    <tr>\n      <th>3</th>\n      <td>B</td>\n      <td>4</td>\n      <td>40</td>\n    </tr>\n    <tr>\n      <th>4</th>\n      <td>B</td>\n      <td>5</td>\n      <td>50</td>\n    </tr>\n    <tr>\n      <th>5</th>\n      <td>C</td>\n      <td>6</td>\n      <td>60</td>\n    </tr>\n  </tbody>\n</table>\n</div>"
     },
     "execution_count": 53,
     "metadata": {},
     "output_type": "execute_result"
    }
   ],
   "source": [
    "df"
   ],
   "metadata": {
    "collapsed": false
   }
  },
  {
   "cell_type": "code",
   "execution_count": null,
   "outputs": [],
   "source": [],
   "metadata": {
    "collapsed": false
   }
  }
 ],
 "metadata": {
  "kernelspec": {
   "display_name": "Python 3",
   "language": "python",
   "name": "python3"
  },
  "language_info": {
   "codemirror_mode": {
    "name": "ipython",
    "version": 2
   },
   "file_extension": ".py",
   "mimetype": "text/x-python",
   "name": "python",
   "nbconvert_exporter": "python",
   "pygments_lexer": "ipython2",
   "version": "2.7.6"
  }
 },
 "nbformat": 4,
 "nbformat_minor": 0
}

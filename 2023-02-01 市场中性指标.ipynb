{
 "cells": [
  {
   "cell_type": "code",
   "execution_count": 1,
   "outputs": [
    {
     "name": "stdout",
     "output_type": "stream",
     "text": [
      "C:\\Users\\Xuwei\\anaconda3\\Lib\\site-packages\\iFinDPy.pth\n"
     ]
    },
    {
     "data": {
      "text/plain": "0"
     },
     "execution_count": 1,
     "metadata": {},
     "output_type": "execute_result"
    }
   ],
   "source": [
    "# 导入同花顺包和登录同花顺\n",
    "import datetime as dt\n",
    "import pandas as pd\n",
    "from numpy import *\n",
    "from iFinDPy import *\n",
    "THS_iFinDLogin(\"gdzq6888\", \"199212\")"
   ],
   "metadata": {
    "collapsed": false
   }
  },
  {
   "cell_type": "code",
   "execution_count": 2,
   "outputs": [],
   "source": [
    "from datetime import datetime\n",
    "from calendar import monthrange\n",
    "import numpy as np"
   ],
   "metadata": {
    "collapsed": false
   }
  },
  {
   "cell_type": "code",
   "execution_count": 3,
   "outputs": [],
   "source": [
    "# 定义给stock code分组的方程\n",
    "def split(list_a, chunk_size):\n",
    "    for i in range(0, len(list_a), chunk_size):\n",
    "        yield list_a[i:i + chunk_size]"
   ],
   "metadata": {
    "collapsed": false
   }
  },
  {
   "cell_type": "code",
   "execution_count": 4,
   "outputs": [],
   "source": [
    "# 定义计算相关性平均值的方程\n",
    "def find_upper_triangle(matrix):\n",
    "    mask = np.triu(np.ones(matrix.shape), k=1)\n",
    "    return matrix[mask.astype(bool)]\n",
    "\n",
    "def solve(a):\n",
    "    return find_upper_triangle(a)"
   ],
   "metadata": {
    "collapsed": false
   }
  },
  {
   "cell_type": "markdown",
   "source": [
    "# 多头alpha"
   ],
   "metadata": {
    "collapsed": false
   }
  },
  {
   "cell_type": "markdown",
   "source": [
    "## 个股截面离散度"
   ],
   "metadata": {
    "collapsed": false
   }
  },
  {
   "cell_type": "code",
   "execution_count": 28,
   "outputs": [],
   "source": [
    "# 输入日期格式为’年-月‘\n",
    "def individual_stock_dispersion(time):\n",
    "    date = datetime.strptime(time, '%Y-%m')\n",
    "    days_in_month = monthrange(date.year, date.month)[1]\n",
    "    month_end = date + timedelta(days=days_in_month - date.day)\n",
    "    month_end_10years = date.replace(year=date.year-10)\n",
    "    month_end = str(month_end)[:10]\n",
    "    month_end_10years = str(month_end_10years)[:10]\n",
    "    # 获取中证800指数成分\n",
    "    data = THS_DP('index_weight',month_end+';000906.SH','date:Y,thscode:Y,security_name:Y,weight:Y').data\n",
    "    # 提取股票代码\n",
    "    stock_code = list(data['thscode'])\n",
    "    # 将股票代码分为4份\n",
    "    stock_code2 = list(split(stock_code,200))\n",
    "    #获得成分股每日价格\n",
    "    data = pd.DataFrame()\n",
    "    for i in stock_code2:\n",
    "        a = THS_HQ(i,'close','',month_end_10years,month_end).data\n",
    "        data=pd.concat([data,a])\n",
    "    # 加入月，日\n",
    "    data['year'] = data['time'].apply(lambda x: x.split('-')[0])\n",
    "    data['month'] = data['time'].apply(lambda x: x.split('-')[1])\n",
    "    # 计算回报\n",
    "    data['lag'] = data.groupby(['thscode'])['close'].shift(1)\n",
    "    data['return'] = (data['close']-data['lag'])/data['lag']\n",
    "    data = data.dropna()\n",
    "\n",
    "    # 计算日标准差\n",
    "    std = data.groupby(['time'])['return'].std().reset_index()\n",
    "    std = std.rename(columns={'return':'daily std'})\n",
    "    std['month'] = std['time'].str[:7]\n",
    "\n",
    "    # 得到离散度\n",
    "    std_monthly = std.groupby('month')['daily std'].mean().reset_index()\n",
    "    std_monthly = std_monthly.rename(columns={'daily std':'monthly std'})\n",
    "\n",
    "    # 计算高/低离散度\n",
    "    dispersion = list(std_monthly['monthly std'])[-1]/mean(list(std_monthly['monthly std']))\n",
    "\n",
    "    return dispersion\n"
   ],
   "metadata": {
    "collapsed": false
   }
  },
  {
   "cell_type": "code",
   "execution_count": 30,
   "outputs": [
    {
     "data": {
      "text/plain": "0.7584548441638147"
     },
     "execution_count": 30,
     "metadata": {},
     "output_type": "execute_result"
    }
   ],
   "source": [
    "individual_stock_dispersion('2023-01')"
   ],
   "metadata": {
    "collapsed": false
   }
  },
  {
   "cell_type": "markdown",
   "source": [
    "## 行业截面离散度"
   ],
   "metadata": {
    "collapsed": false
   }
  },
  {
   "cell_type": "code",
   "execution_count": 10,
   "outputs": [],
   "source": [
    "def industry_dispersion(time):\n",
    "    date = datetime.strptime(time, '%Y-%m')\n",
    "    days_in_month = monthrange(date.year, date.month)[1]\n",
    "    month_end = date + timedelta(days=days_in_month - date.day)\n",
    "    month_end_10years = date.replace(year=date.year-10)\n",
    "    month_end = str(month_end)[:10]\n",
    "    month_end_10years = str(month_end_10years)[:10]\n",
    "\n",
    "    # 获取一级行业指数回报\n",
    "    data=THS_HQ('CI005001.CI,CI005002.CI,CI005003.CI,CI005004.CI,CI005005.CI,CI005006.CI,CI005007.CI,CI005008.CI,CI005009.CI,CI005010.CI,CI005011.CI,CI005012.CI,CI005013.CI,CI005014.CI,CI005015.CI,CI005016.CI,CI005017.CI,CI005018.CI,CI005019.CI,CI005020.CI,CI005021.CI,CI005022.CI,CI005023.CI,CI005024.CI,CI005025.CI,CI005026.CI,CI005027.CI,CI005028.CI,CI005029.CI,CI005030.CI','close','',month_end_10years,month_end).data\n",
    "\n",
    "    # 计算回报\n",
    "    data['lag'] = data.groupby(['thscode'])['close'].shift(1)\n",
    "    data['return'] = (data['close']-data['lag'])/data['lag']\n",
    "    data = data.dropna()\n",
    "\n",
    "    # 计算日标准差\n",
    "    std = data.groupby(['time'])['return'].std().reset_index()\n",
    "    std = std.rename(columns={'return':'daily std'})\n",
    "    std['month'] = std['time'].str[:7]\n",
    "\n",
    "    # 得到离散度\n",
    "    std_monthly = std.groupby('month')['daily std'].mean().reset_index()\n",
    "    std_monthly = std_monthly.rename(columns={'daily std':'monthly std'})\n",
    "\n",
    "    # 计算高/低离散度\n",
    "    dispersion = list(std_monthly['monthly std'])[-1]/mean(list(std_monthly['monthly std']))\n",
    "\n",
    "    return  dispersion\n"
   ],
   "metadata": {
    "collapsed": false
   }
  },
  {
   "cell_type": "code",
   "execution_count": 11,
   "outputs": [
    {
     "data": {
      "text/plain": "0.9762148769812952"
     },
     "execution_count": 11,
     "metadata": {},
     "output_type": "execute_result"
    }
   ],
   "source": [
    "industry_dispersion('2023-01')"
   ],
   "metadata": {
    "collapsed": false
   }
  },
  {
   "cell_type": "markdown",
   "source": [
    "## 个股相关性"
   ],
   "metadata": {
    "collapsed": false
   }
  },
  {
   "cell_type": "code",
   "execution_count": 12,
   "outputs": [],
   "source": [
    "# 输入日期格式为’年-月‘\n",
    "def stock_correlation(time):\n",
    "    date = datetime.strptime(time, '%Y-%m')\n",
    "    days_in_month = monthrange(date.year, date.month)[1]\n",
    "    month_end = date + timedelta(days=days_in_month - date.day)\n",
    "    month_end_10years = date.replace(year=date.year-10)\n",
    "    month_end = str(month_end)[:10]\n",
    "    month_end_10years = str(month_end_10years)[:10]\n",
    "    # 获取中证800指数成分\n",
    "    data = THS_DP('index_weight',month_end+';000906.SH','date:Y,thscode:Y,security_name:Y,weight:Y').data\n",
    "    # 提取股票代码\n",
    "    stock_code = list(data['thscode'])\n",
    "    # 将股票代码分为4份\n",
    "    stock_code2 = list(split(stock_code,200))\n",
    "    #获得成分股每日价格\n",
    "    data = pd.DataFrame()\n",
    "    for i in stock_code2:\n",
    "        a = THS_HQ(i,'close','',month_end_10years,month_end).data\n",
    "        data=pd.concat([data,a])\n",
    "\n",
    "    # 计算回报\n",
    "    data['lag'] = data.groupby(['thscode'])['close'].shift(1)\n",
    "    data['return'] = (data['close']-data['lag'])/data['lag']\n",
    "    data = data.dropna()\n",
    "    data['month'] = data['time'].str[:7]\n",
    "\n",
    "    # 计算相关性\n",
    "    corr_list=list()\n",
    "    for k in list(unique(data['month'])):\n",
    "        df = pd.DataFrame()\n",
    "        test = data[data['month']==k]\n",
    "        for i in list(unique(test['thscode'])):\n",
    "            a = test[test['thscode'] == i].reset_index()\n",
    "            a = a[['return']]\n",
    "            a = a.rename(columns={'return':i})\n",
    "            df = pd.concat([df,a],axis=1)\n",
    "        corr_matrix = df.corr().fillna(0).to_numpy()\n",
    "        mean_correlation = mean(solve(corr_matrix))\n",
    "        corr_list.append(mean_correlation)\n",
    "    correlation_mean = mean(corr_list)\n",
    "\n",
    "    correlation = corr_list[-1]/correlation_mean\n",
    "\n",
    "    return correlation\n",
    "\n"
   ],
   "metadata": {
    "collapsed": false
   }
  },
  {
   "cell_type": "code",
   "execution_count": 13,
   "outputs": [
    {
     "data": {
      "text/plain": "0.3746244164380103"
     },
     "execution_count": 13,
     "metadata": {},
     "output_type": "execute_result"
    }
   ],
   "source": [
    "stock_correlation('2023-01')"
   ],
   "metadata": {
    "collapsed": false
   }
  },
  {
   "cell_type": "markdown",
   "source": [
    "## 行业相关性"
   ],
   "metadata": {
    "collapsed": false
   }
  },
  {
   "cell_type": "code",
   "execution_count": 11,
   "outputs": [],
   "source": [
    "def industry_correlation(time):\n",
    "    date = datetime.strptime(time, '%Y-%m')\n",
    "    days_in_month = monthrange(date.year, date.month)[1]\n",
    "    month_end = date + timedelta(days=days_in_month - date.day)\n",
    "    month_end_10years = date.replace(year=date.year-10)\n",
    "    month_end = str(month_end)[:10]\n",
    "    month_end_10years = str(month_end_10years)[:10]\n",
    "\n",
    "    # 获取一级行业指数回报\n",
    "    data=THS_HQ('CI005001.CI,CI005002.CI,CI005003.CI,CI005004.CI,CI005005.CI,CI005006.CI,CI005007.CI,CI005008.CI,CI005009.CI,CI005010.CI,CI005011.CI,CI005012.CI,CI005013.CI,CI005014.CI,CI005015.CI,CI005016.CI,CI005017.CI,CI005018.CI,CI005019.CI,CI005020.CI,CI005021.CI,CI005022.CI,CI005023.CI,CI005024.CI,CI005025.CI,CI005026.CI,CI005027.CI,CI005028.CI,CI005029.CI,CI005030.CI','close','',month_end_10years,month_end).data\n",
    "\n",
    "    # 计算回报\n",
    "    data['lag'] = data.groupby(['thscode'])['close'].shift(1)\n",
    "    data['return'] = (data['close']-data['lag'])/data['lag']\n",
    "    data = data.dropna()\n",
    "    data['month'] = data['time'].str[:7]\n",
    "\n",
    "    corr_list=list()\n",
    "    for k in list(unique(data['month'])):\n",
    "        df = pd.DataFrame()\n",
    "        test = data[data['month']==k]\n",
    "        for i in list(unique(test['thscode'])):\n",
    "            a = test[test['thscode'] == i].reset_index()\n",
    "            a = a[['return']]\n",
    "            a = a.rename(columns={'return':i})\n",
    "            df = pd.concat([df,a],axis=1)\n",
    "        corr_matrix = df.corr().fillna(0).to_numpy()\n",
    "        mean_correlation = mean(solve(corr_matrix))\n",
    "        corr_list.append(mean_correlation)\n",
    "    correlation_mean = mean(corr_list)\n",
    "\n",
    "    correlation = corr_list[-1]/correlation_mean\n",
    "\n",
    "    return correlation"
   ],
   "metadata": {
    "collapsed": false
   }
  },
  {
   "cell_type": "code",
   "execution_count": 12,
   "outputs": [
    {
     "data": {
      "text/plain": "array([[ 1.        ,  0.49747065,  0.48511906,  0.60918228,  0.68026759,\n         0.43045519,  0.59230266,  0.2289542 , -0.04522096,  0.21011445,\n         0.31640072,  0.05988549, -0.1772572 ,  0.10185522, -0.02440117,\n         0.08891448,  0.30731479,  0.04966744, -0.00860504,  0.39075855,\n        -0.0421191 ,  0.19092591,  0.07838167,  0.35053425, -0.06522161,\n         0.17957348, -0.01491843, -0.20542677,  0.15966008,  0.03473208],\n       [ 0.49747065,  1.        ,  0.32760207,  0.2805951 ,  0.28356738,\n        -0.07232732,  0.16969964, -0.13446294, -0.46837168, -0.35416704,\n        -0.01682199, -0.27374724, -0.36199985, -0.4636714 , -0.14738244,\n        -0.19488837, -0.22171285, -0.11112524, -0.26732262, -0.09218069,\n        -0.05536647,  0.03271075, -0.11035194, -0.01284745, -0.23031597,\n         0.08387587, -0.2432012 , -0.36102364, -0.08834108, -0.11686695],\n       [ 0.48511906,  0.32760207,  1.        ,  0.50830141,  0.62366719,\n         0.61820479,  0.45233423, -0.1713899 , -0.27977088,  0.53432246,\n         0.6166256 ,  0.1363183 ,  0.40538281,  0.1669781 ,  0.0131511 ,\n        -0.3027969 ,  0.45263569,  0.12468399,  0.10976981,  0.1469131 ,\n        -0.31345261, -0.07648354, -0.35980624,  0.15934181,  0.29165973,\n         0.5173676 ,  0.3724019 ,  0.30812734,  0.38042606,  0.12942668],\n       [ 0.60918228,  0.2805951 ,  0.50830141,  1.        ,  0.75345552,\n         0.45079634,  0.77867603,  0.31441305,  0.12065034,  0.47412891,\n         0.45976671,  0.45337521,  0.13112994,  0.11325615, -0.11142504,\n         0.00995053,  0.30983378,  0.09520097, -0.16688471, -0.07958044,\n         0.06194502, -0.17174052,  0.240933  ,  0.19071766,  0.0208068 ,\n         0.75802162,  0.43722032,  0.25400016,  0.64242138,  0.18364667],\n       [ 0.68026759,  0.28356738,  0.62366719,  0.75345552,  1.        ,\n         0.60874393,  0.78483363,  0.15482369,  0.09188499,  0.55094185,\n         0.39446377,  0.50726258,  0.21235739,  0.11146067, -0.24729357,\n        -0.11587903,  0.47948881,  0.04316958, -0.04175714,  0.1526475 ,\n         0.14068276,  0.01027882,  0.08565225,  0.14434892,  0.13038962,\n         0.52589283,  0.43630898,  0.10521507,  0.60703196,  0.31754957],\n       [ 0.43045519, -0.07232732,  0.61820479,  0.45079634,  0.60874393,\n         1.        ,  0.29094175, -0.03236811, -0.05968851,  0.81045367,\n         0.83143839,  0.49031912,  0.60256889, -0.0323088 , -0.01965541,\n        -0.08102777,  0.32702778,  0.16873998,  0.30424964,  0.01279301,\n        -0.23188107,  0.09029255, -0.34199595,  0.09289904,  0.54302198,\n         0.30852197,  0.41950926,  0.07339139,  0.25229559,  0.14925912],\n       [ 0.59230266,  0.16969964,  0.45233423,  0.77867603,  0.78483363,\n         0.29094175,  1.        ,  0.53202467,  0.37200583,  0.41619154,\n         0.04148141,  0.34926952, -0.11583174,  0.37575762,  0.06271176,\n         0.17388471,  0.52302938,  0.19021196, -0.1267804 ,  0.27256099,\n         0.35615373,  0.10735512,  0.56688299,  0.43003548, -0.05625408,\n         0.66546998,  0.42835824,  0.42744053,  0.67082054,  0.45724906],\n       [ 0.2289542 , -0.13446294, -0.1713899 ,  0.31441305,  0.15482369,\n        -0.03236811,  0.53202467,  1.        ,  0.84997882, -0.03789476,\n        -0.20209706, -0.10337047, -0.20727305,  0.41710129,  0.43450191,\n         0.69241672,  0.26788379,  0.45276485,  0.31950805,  0.48901032,\n         0.55540829,  0.39166906,  0.75295309,  0.46607093, -0.23601622,\n         0.05825389, -0.04038926,  0.22505372,  0.242751  ,  0.18309847],\n       [-0.04522096, -0.46837168, -0.27977088,  0.12065034,  0.09188499,\n        -0.05968851,  0.37200583,  0.84997882,  1.        ,  0.05348759,\n        -0.25046054,  0.00799797, -0.00297398,  0.45054722,  0.22442805,\n         0.65971816,  0.39357089,  0.3343204 ,  0.38775572,  0.42286976,\n         0.69955764,  0.29878783,  0.64086085,  0.22472729, -0.20630518,\n         0.04765033,  0.10695909,  0.27129339,  0.33495896,  0.19016031],\n       [ 0.21011445, -0.35416704,  0.53432246,  0.47412891,  0.55094185,\n         0.81045367,  0.41619154, -0.03789476,  0.05348759,  1.        ,\n         0.62277586,  0.75906112,  0.64393223,  0.19921148, -0.16038569,\n        -0.13342957,  0.53448145,  0.10662947,  0.04861702, -0.04659849,\n        -0.21397925, -0.19930274, -0.09273092,  0.0057788 ,  0.54656336,\n         0.56922324,  0.67668379,  0.41600642,  0.55197975,  0.37627446],\n       [ 0.31640072, -0.01682199,  0.6166256 ,  0.45976671,  0.39446377,\n         0.83143839,  0.04148141, -0.20209706, -0.25046054,  0.62277586,\n         1.        ,  0.28993873,  0.7206183 , -0.08521442, -0.0775389 ,\n        -0.2769722 ,  0.0997122 , -0.02485151,  0.22620589, -0.15876648,\n        -0.52508006, -0.2511574 , -0.54083431, -0.10248516,  0.39230883,\n         0.25343928,  0.18589142, -0.05419652,  0.14869438, -0.23645199],\n       [ 0.05988549, -0.27374724,  0.1363183 ,  0.45337521,  0.50726258,\n         0.49031912,  0.34926952, -0.10337047,  0.00799797,  0.75906112,\n         0.28993873,  1.        ,  0.37420898,  0.09534564, -0.31093925,\n        -0.08452473,  0.38325888,  0.08829171, -0.13956775, -0.24557746,\n        -0.00453991, -0.23167835,  0.06516278, -0.09848034,  0.55002124,\n         0.52247583,  0.73090891,  0.29204275,  0.5641347 ,  0.48936199],\n       [-0.1772572 , -0.36199985,  0.40538281,  0.13112994,  0.21235739,\n         0.60256889, -0.11583174, -0.20727305, -0.00297398,  0.64393223,\n         0.7206183 ,  0.37420898,  1.        ,  0.03024998, -0.22508299,\n        -0.27629827,  0.25231135, -0.06201586,  0.31125169, -0.12853257,\n        -0.40653292, -0.42510808, -0.41576475, -0.27103939,  0.29855023,\n         0.1711783 ,  0.23673307,  0.19419999,  0.39256571, -0.06112294],\n       [ 0.10185522, -0.4636714 ,  0.1669781 ,  0.11325615,  0.11146067,\n        -0.0323088 ,  0.37575762,  0.41710129,  0.45054722,  0.19921148,\n        -0.08521442,  0.09534564,  0.03024998,  1.        ,  0.44844226,\n         0.37377302,  0.69431382,  0.46840705,  0.3919169 ,  0.72628105,\n         0.12185561,  0.21418858,  0.28561712,  0.59540437,  0.13268497,\n         0.10445128,  0.22145886,  0.57244697,  0.27587139,  0.33456386],\n       [-0.02440117, -0.14738244,  0.0131511 , -0.11142504, -0.24729357,\n        -0.01965541,  0.06271176,  0.43450191,  0.22442805, -0.16038569,\n        -0.0775389 , -0.31093925, -0.22508299,  0.44844226,  1.        ,\n         0.62117654,  0.07731586,  0.73736717,  0.60068635,  0.38818099,\n         0.08496848,  0.6068972 ,  0.26372171,  0.65403578,  0.30731775,\n        -0.12760674,  0.0064111 ,  0.33298948, -0.16764736, -0.05147078],\n       [ 0.08891448, -0.19488837, -0.3027969 ,  0.00995053, -0.11587903,\n        -0.08102777,  0.17388471,  0.69241672,  0.65971816, -0.13342957,\n        -0.2769722 , -0.08452473, -0.27629827,  0.37377302,  0.62117654,\n         1.        ,  0.36917301,  0.67472321,  0.62839445,  0.46805776,\n         0.60635758,  0.65797862,  0.51814935,  0.50586152,  0.11147119,\n        -0.03578168,  0.07152322,  0.16221686,  0.04322217,  0.06351101],\n       [ 0.30731479, -0.22171285,  0.45263569,  0.30983378,  0.47948881,\n         0.32702778,  0.52302938,  0.26788379,  0.39357089,  0.53448145,\n         0.0997122 ,  0.38325888,  0.25231135,  0.69431382,  0.07731586,\n         0.36917301,  1.        ,  0.43055794,  0.39040009,  0.63001882,\n         0.27138504,  0.22395009,  0.1231194 ,  0.38622288,  0.29011585,\n         0.42723525,  0.50773331,  0.50078361,  0.51721724,  0.47248494],\n       [ 0.04966744, -0.11112524,  0.12468399,  0.09520097,  0.04316958,\n         0.16873998,  0.19021196,  0.45276485,  0.3343204 ,  0.10662947,\n        -0.02485151,  0.08829171, -0.06201586,  0.46840705,  0.73736717,\n         0.67472321,  0.43055794,  1.        ,  0.64891084,  0.44380207,\n         0.23325349,  0.66795318,  0.19199147,  0.56977587,  0.5263062 ,\n         0.09696393,  0.4324791 ,  0.46694901,  0.09571937,  0.30091332],\n       [-0.00860504, -0.26732262,  0.10976981, -0.16688471, -0.04175714,\n         0.30424964, -0.1267804 ,  0.31950805,  0.38775572,  0.04861702,\n         0.22620589, -0.13956775,  0.31125169,  0.3919169 ,  0.60068635,\n         0.62839445,  0.39040009,  0.64891084,  1.        ,  0.52677898,\n         0.19091712,  0.57967184, -0.13344372,  0.42653873,  0.33981663,\n        -0.26046458,  0.02502436,  0.14326618, -0.02977986, -0.0362716 ],\n       [ 0.39075855, -0.09218069,  0.1469131 , -0.07958044,  0.1526475 ,\n         0.01279301,  0.27256099,  0.48901032,  0.42286976, -0.04659849,\n        -0.15876648, -0.24557746, -0.12853257,  0.72628105,  0.38818099,\n         0.46805776,  0.63001882,  0.44380207,  0.52677898,  1.        ,\n         0.19997471,  0.53445164,  0.182222  ,  0.6262167 , -0.06332415,\n        -0.27460703, -0.17741442,  0.13058228, -0.05112114,  0.22779874],\n       [-0.0421191 , -0.05536647, -0.31345261,  0.06194502,  0.14068276,\n        -0.23188107,  0.35615373,  0.55540829,  0.69955764, -0.21397925,\n        -0.52508006, -0.00453991, -0.40653292,  0.12185561,  0.08496848,\n         0.60635758,  0.27138504,  0.23325349,  0.19091712,  0.19997471,\n         1.        ,  0.50827898,  0.51150493,  0.18303317, -0.18616442,\n         0.15084809,  0.17479372,  0.10133476,  0.17092531,  0.30714849],\n       [ 0.19092591,  0.03271075, -0.07648354, -0.17174052,  0.01027882,\n         0.09029255,  0.10735512,  0.39166906,  0.29878783, -0.19930274,\n        -0.2511574 , -0.23167835, -0.42510808,  0.21418858,  0.6068972 ,\n         0.65797862,  0.22395009,  0.66795318,  0.57967184,  0.53445164,\n         0.50827898,  1.        ,  0.10474658,  0.65583158,  0.19753613,\n        -0.22352183,  0.05264105,  0.0681904 , -0.31471148,  0.28454553],\n       [ 0.07838167, -0.11035194, -0.35980624,  0.240933  ,  0.08565225,\n        -0.34199595,  0.56688299,  0.75295309,  0.64086085, -0.09273092,\n        -0.54083431,  0.06516278, -0.41576475,  0.28561712,  0.26372171,\n         0.51814935,  0.1231194 ,  0.19199147, -0.13344372,  0.182222  ,\n         0.51150493,  0.10474658,  1.        ,  0.28870451, -0.30128568,\n         0.19417627,  0.04751537,  0.28098782,  0.40247187,  0.21127758],\n       [ 0.35053425, -0.01284745,  0.15934181,  0.19071766,  0.14434892,\n         0.09289904,  0.43003548,  0.46607093,  0.22472729,  0.0057788 ,\n        -0.10248516, -0.09848034, -0.27103939,  0.59540437,  0.65403578,\n         0.50586152,  0.38622288,  0.56977587,  0.42653873,  0.6262167 ,\n         0.18303317,  0.65583158,  0.28870451,  1.        ,  0.00375818,\n         0.06784988,  0.06182083,  0.48042128,  0.07583831,  0.46034914],\n       [-0.06522161, -0.23031597,  0.29165973,  0.0208068 ,  0.13038962,\n         0.54302198, -0.05625408, -0.23601622, -0.20630518,  0.54656336,\n         0.39230883,  0.55002124,  0.29855023,  0.13268497,  0.30731775,\n         0.11147119,  0.29011585,  0.5263062 ,  0.33981663, -0.06332415,\n        -0.18616442,  0.19753613, -0.30128568,  0.00375818,  1.        ,\n         0.18398635,  0.61355293,  0.18633859,  0.00792248,  0.14350811],\n       [ 0.17957348,  0.08387587,  0.5173676 ,  0.75802162,  0.52589283,\n         0.30852197,  0.66546998,  0.05825389,  0.04765033,  0.56922324,\n         0.25343928,  0.52247583,  0.1711783 ,  0.10445128, -0.12760674,\n        -0.03578168,  0.42723525,  0.09696393, -0.26046458, -0.27460703,\n         0.15084809, -0.22352183,  0.19417627,  0.06784988,  0.18398635,\n         1.        ,  0.72902945,  0.58289891,  0.71169381,  0.34099922],\n       [-0.01491843, -0.2432012 ,  0.3724019 ,  0.43722032,  0.43630898,\n         0.41950926,  0.42835824, -0.04038926,  0.10695909,  0.67668379,\n         0.18589142,  0.73090891,  0.23673307,  0.22145886,  0.0064111 ,\n         0.07152322,  0.50773331,  0.4324791 ,  0.02502436, -0.17741442,\n         0.17479372,  0.05264105,  0.04751537,  0.06182083,  0.61355293,\n         0.72902945,  1.        ,  0.64661498,  0.60221907,  0.54198758],\n       [-0.20542677, -0.36102364,  0.30812734,  0.25400016,  0.10521507,\n         0.07339139,  0.42744053,  0.22505372,  0.27129339,  0.41600642,\n        -0.05419652,  0.29204275,  0.19419999,  0.57244697,  0.33298948,\n         0.16221686,  0.50078361,  0.46694901,  0.14326618,  0.13058228,\n         0.10133476,  0.0681904 ,  0.28098782,  0.48042128,  0.18633859,\n         0.58289891,  0.64661498,  1.        ,  0.60497831,  0.623526  ],\n       [ 0.15966008, -0.08834108,  0.38042606,  0.64242138,  0.60703196,\n         0.25229559,  0.67082054,  0.242751  ,  0.33495896,  0.55197975,\n         0.14869438,  0.5641347 ,  0.39256571,  0.27587139, -0.16764736,\n         0.04322217,  0.51721724,  0.09571937, -0.02977986, -0.05112114,\n         0.17092531, -0.31471148,  0.40247187,  0.07583831,  0.00792248,\n         0.71169381,  0.60221907,  0.60497831,  1.        ,  0.38535397],\n       [ 0.03473208, -0.11686695,  0.12942668,  0.18364667,  0.31754957,\n         0.14925912,  0.45724906,  0.18309847,  0.19016031,  0.37627446,\n        -0.23645199,  0.48936199, -0.06112294,  0.33456386, -0.05147078,\n         0.06351101,  0.47248494,  0.30091332, -0.0362716 ,  0.22779874,\n         0.30714849,  0.28454553,  0.21127758,  0.46034914,  0.14350811,\n         0.34099922,  0.54198758,  0.623526  ,  0.38535397,  1.        ]])"
     },
     "execution_count": 12,
     "metadata": {},
     "output_type": "execute_result"
    }
   ],
   "source": [
    "industry_correlation('2023-01')"
   ],
   "metadata": {
    "collapsed": false
   }
  },
  {
   "cell_type": "markdown",
   "source": [
    "## 市场流动性"
   ],
   "metadata": {
    "collapsed": false
   }
  },
  {
   "cell_type": "code",
   "execution_count": 7,
   "outputs": [],
   "source": [
    "# 取得中证800的涨跌幅\n",
    "data = THS_HQ('000906.SH','changeRatio,turnoverRatio','','2013-02-02','2023-02-02').data"
   ],
   "metadata": {
    "collapsed": false
   }
  },
  {
   "cell_type": "code",
   "execution_count": 9,
   "outputs": [],
   "source": [
    "data['日低流动性'] = data['changeRatio']/data['turnoverRatio']"
   ],
   "metadata": {
    "collapsed": false
   }
  },
  {
   "cell_type": "code",
   "execution_count": 10,
   "outputs": [
    {
     "data": {
      "text/plain": "            time    thscode  changeRatio  turnoverRatio     日低流动性\n0     2013-02-04  000906.SH    -0.015417       0.930203 -0.016573\n1     2013-02-05  000906.SH     0.900610       0.828819  1.086618\n2     2013-02-06  000906.SH     0.266765       0.632775  0.421580\n3     2013-02-07  000906.SH    -0.363568       0.650937 -0.558530\n4     2013-02-08  000906.SH     0.654623       0.583527  1.121838\n...          ...        ...          ...            ...       ...\n2422  2023-01-20  000906.SH     0.650587       0.585588  1.110997\n2423  2023-01-30  000906.SH     0.483076       0.765846  0.630775\n2424  2023-01-31  000906.SH    -0.768684       0.639636 -1.201752\n2425  2023-02-01  000906.SH     1.011315       0.722341  1.400052\n2426  2023-02-02  000906.SH    -0.245649       0.696902 -0.352488\n\n[2427 rows x 5 columns]",
      "text/html": "<div>\n<style scoped>\n    .dataframe tbody tr th:only-of-type {\n        vertical-align: middle;\n    }\n\n    .dataframe tbody tr th {\n        vertical-align: top;\n    }\n\n    .dataframe thead th {\n        text-align: right;\n    }\n</style>\n<table border=\"1\" class=\"dataframe\">\n  <thead>\n    <tr style=\"text-align: right;\">\n      <th></th>\n      <th>time</th>\n      <th>thscode</th>\n      <th>changeRatio</th>\n      <th>turnoverRatio</th>\n      <th>日低流动性</th>\n    </tr>\n  </thead>\n  <tbody>\n    <tr>\n      <th>0</th>\n      <td>2013-02-04</td>\n      <td>000906.SH</td>\n      <td>-0.015417</td>\n      <td>0.930203</td>\n      <td>-0.016573</td>\n    </tr>\n    <tr>\n      <th>1</th>\n      <td>2013-02-05</td>\n      <td>000906.SH</td>\n      <td>0.900610</td>\n      <td>0.828819</td>\n      <td>1.086618</td>\n    </tr>\n    <tr>\n      <th>2</th>\n      <td>2013-02-06</td>\n      <td>000906.SH</td>\n      <td>0.266765</td>\n      <td>0.632775</td>\n      <td>0.421580</td>\n    </tr>\n    <tr>\n      <th>3</th>\n      <td>2013-02-07</td>\n      <td>000906.SH</td>\n      <td>-0.363568</td>\n      <td>0.650937</td>\n      <td>-0.558530</td>\n    </tr>\n    <tr>\n      <th>4</th>\n      <td>2013-02-08</td>\n      <td>000906.SH</td>\n      <td>0.654623</td>\n      <td>0.583527</td>\n      <td>1.121838</td>\n    </tr>\n    <tr>\n      <th>...</th>\n      <td>...</td>\n      <td>...</td>\n      <td>...</td>\n      <td>...</td>\n      <td>...</td>\n    </tr>\n    <tr>\n      <th>2422</th>\n      <td>2023-01-20</td>\n      <td>000906.SH</td>\n      <td>0.650587</td>\n      <td>0.585588</td>\n      <td>1.110997</td>\n    </tr>\n    <tr>\n      <th>2423</th>\n      <td>2023-01-30</td>\n      <td>000906.SH</td>\n      <td>0.483076</td>\n      <td>0.765846</td>\n      <td>0.630775</td>\n    </tr>\n    <tr>\n      <th>2424</th>\n      <td>2023-01-31</td>\n      <td>000906.SH</td>\n      <td>-0.768684</td>\n      <td>0.639636</td>\n      <td>-1.201752</td>\n    </tr>\n    <tr>\n      <th>2425</th>\n      <td>2023-02-01</td>\n      <td>000906.SH</td>\n      <td>1.011315</td>\n      <td>0.722341</td>\n      <td>1.400052</td>\n    </tr>\n    <tr>\n      <th>2426</th>\n      <td>2023-02-02</td>\n      <td>000906.SH</td>\n      <td>-0.245649</td>\n      <td>0.696902</td>\n      <td>-0.352488</td>\n    </tr>\n  </tbody>\n</table>\n<p>2427 rows × 5 columns</p>\n</div>"
     },
     "execution_count": 10,
     "metadata": {},
     "output_type": "execute_result"
    }
   ],
   "source": [
    "data"
   ],
   "metadata": {
    "collapsed": false
   }
  },
  {
   "cell_type": "code",
   "execution_count": 18,
   "outputs": [
    {
     "data": {
      "text/plain": "     index   close\n0      0.0  1711.2\n1      0.6  1723.8\n2      1.2  1720.2\n3      1.8  1729.2\n4      2.4  1744.2\n..     ...     ...\n208  124.8  1738.8\n209  125.4  1724.4\n210  126.0  1715.4\n211  126.6  1735.2\n212  127.2  1705.2\n\n[213 rows x 2 columns]",
      "text/html": "<div>\n<style scoped>\n    .dataframe tbody tr th:only-of-type {\n        vertical-align: middle;\n    }\n\n    .dataframe tbody tr th {\n        vertical-align: top;\n    }\n\n    .dataframe thead th {\n        text-align: right;\n    }\n</style>\n<table border=\"1\" class=\"dataframe\">\n  <thead>\n    <tr style=\"text-align: right;\">\n      <th></th>\n      <th>index</th>\n      <th>close</th>\n    </tr>\n  </thead>\n  <tbody>\n    <tr>\n      <th>0</th>\n      <td>0.0</td>\n      <td>1711.2</td>\n    </tr>\n    <tr>\n      <th>1</th>\n      <td>0.6</td>\n      <td>1723.8</td>\n    </tr>\n    <tr>\n      <th>2</th>\n      <td>1.2</td>\n      <td>1720.2</td>\n    </tr>\n    <tr>\n      <th>3</th>\n      <td>1.8</td>\n      <td>1729.2</td>\n    </tr>\n    <tr>\n      <th>4</th>\n      <td>2.4</td>\n      <td>1744.2</td>\n    </tr>\n    <tr>\n      <th>...</th>\n      <td>...</td>\n      <td>...</td>\n    </tr>\n    <tr>\n      <th>208</th>\n      <td>124.8</td>\n      <td>1738.8</td>\n    </tr>\n    <tr>\n      <th>209</th>\n      <td>125.4</td>\n      <td>1724.4</td>\n    </tr>\n    <tr>\n      <th>210</th>\n      <td>126.0</td>\n      <td>1715.4</td>\n    </tr>\n    <tr>\n      <th>211</th>\n      <td>126.6</td>\n      <td>1735.2</td>\n    </tr>\n    <tr>\n      <th>212</th>\n      <td>127.2</td>\n      <td>1705.2</td>\n    </tr>\n  </tbody>\n</table>\n<p>213 rows × 2 columns</p>\n</div>"
     },
     "execution_count": 18,
     "metadata": {},
     "output_type": "execute_result"
    }
   ],
   "source": [
    "data1"
   ],
   "metadata": {
    "collapsed": false
   }
  },
  {
   "cell_type": "code",
   "execution_count": 19,
   "outputs": [
    {
     "data": {
      "text/plain": "     index   close\n0     0.00  911.50\n1     0.25  923.25\n2     0.50  921.75\n3     0.75  903.50\n4     1.00  902.50\n..     ...     ...\n166  41.50  988.00\n167  41.75  971.50\n168  42.00  960.25\n169  42.25  974.75\n170  42.50  976.50\n\n[171 rows x 2 columns]",
      "text/html": "<div>\n<style scoped>\n    .dataframe tbody tr th:only-of-type {\n        vertical-align: middle;\n    }\n\n    .dataframe tbody tr th {\n        vertical-align: top;\n    }\n\n    .dataframe thead th {\n        text-align: right;\n    }\n</style>\n<table border=\"1\" class=\"dataframe\">\n  <thead>\n    <tr style=\"text-align: right;\">\n      <th></th>\n      <th>index</th>\n      <th>close</th>\n    </tr>\n  </thead>\n  <tbody>\n    <tr>\n      <th>0</th>\n      <td>0.00</td>\n      <td>911.50</td>\n    </tr>\n    <tr>\n      <th>1</th>\n      <td>0.25</td>\n      <td>923.25</td>\n    </tr>\n    <tr>\n      <th>2</th>\n      <td>0.50</td>\n      <td>921.75</td>\n    </tr>\n    <tr>\n      <th>3</th>\n      <td>0.75</td>\n      <td>903.50</td>\n    </tr>\n    <tr>\n      <th>4</th>\n      <td>1.00</td>\n      <td>902.50</td>\n    </tr>\n    <tr>\n      <th>...</th>\n      <td>...</td>\n      <td>...</td>\n    </tr>\n    <tr>\n      <th>166</th>\n      <td>41.50</td>\n      <td>988.00</td>\n    </tr>\n    <tr>\n      <th>167</th>\n      <td>41.75</td>\n      <td>971.50</td>\n    </tr>\n    <tr>\n      <th>168</th>\n      <td>42.00</td>\n      <td>960.25</td>\n    </tr>\n    <tr>\n      <th>169</th>\n      <td>42.25</td>\n      <td>974.75</td>\n    </tr>\n    <tr>\n      <th>170</th>\n      <td>42.50</td>\n      <td>976.50</td>\n    </tr>\n  </tbody>\n</table>\n<p>171 rows × 2 columns</p>\n</div>"
     },
     "execution_count": 19,
     "metadata": {},
     "output_type": "execute_result"
    }
   ],
   "source": [
    "data2"
   ],
   "metadata": {
    "collapsed": false
   }
  },
  {
   "cell_type": "code",
   "execution_count": null,
   "outputs": [],
   "source": [],
   "metadata": {
    "collapsed": false
   }
  }
 ],
 "metadata": {
  "kernelspec": {
   "display_name": "Python 3",
   "language": "python",
   "name": "python3"
  },
  "language_info": {
   "codemirror_mode": {
    "name": "ipython",
    "version": 2
   },
   "file_extension": ".py",
   "mimetype": "text/x-python",
   "name": "python",
   "nbconvert_exporter": "python",
   "pygments_lexer": "ipython2",
   "version": "2.7.6"
  }
 },
 "nbformat": 4,
 "nbformat_minor": 0
}

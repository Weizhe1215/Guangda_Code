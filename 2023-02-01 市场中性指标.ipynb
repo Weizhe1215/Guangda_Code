{
 "cells": [
  {
   "cell_type": "code",
   "execution_count": 1,
   "outputs": [
    {
     "name": "stdout",
     "output_type": "stream",
     "text": [
      "D:\\Anaconda\\Lib\\site-packages\\iFinDPy.pth\n"
     ]
    },
    {
     "data": {
      "text/plain": "0"
     },
     "execution_count": 1,
     "metadata": {},
     "output_type": "execute_result"
    }
   ],
   "source": [
    "# 导入同花顺包和登录同花顺\n",
    "import datetime as dt\n",
    "import pandas as pd\n",
    "from numpy import *\n",
    "from iFinDPy import *\n",
    "THS_iFinDLogin(\"gdzq6888\", \"199212\")"
   ],
   "metadata": {
    "collapsed": false
   }
  },
  {
   "cell_type": "markdown",
   "source": [
    "# 多头alpha"
   ],
   "metadata": {
    "collapsed": false
   }
  },
  {
   "cell_type": "markdown",
   "source": [
    "## 个股截面离散度"
   ],
   "metadata": {
    "collapsed": false
   }
  },
  {
   "cell_type": "code",
   "execution_count": 2,
   "outputs": [],
   "source": [
    "data = THS_DP('index_weight','2023-02-01;000906.SH','date:Y,thscode:Y,security_name:Y,weight:Y').data"
   ],
   "metadata": {
    "collapsed": false
   }
  },
  {
   "cell_type": "code",
   "execution_count": 3,
   "outputs": [],
   "source": [
    "# 提取股票代码\n",
    "stock_code = list(data['thscode'])"
   ],
   "metadata": {
    "collapsed": false
   }
  },
  {
   "cell_type": "code",
   "execution_count": 50,
   "outputs": [],
   "source": [
    "def split(list_a, chunk_size):\n",
    "    for i in range(0, len(list_a), chunk_size):\n",
    "        yield list_a[i:i + chunk_size]"
   ],
   "metadata": {
    "collapsed": false
   }
  },
  {
   "cell_type": "code",
   "execution_count": 51,
   "outputs": [],
   "source": [
    "# 将stock code等分为10份，因为每次访问有上限\n",
    "stock_code2 = list(split(stock_code,10))"
   ],
   "metadata": {
    "collapsed": false
   }
  },
  {
   "cell_type": "code",
   "execution_count": 59,
   "outputs": [],
   "source": [
    "# 获得股票近10年的每日的每半小时价格\n",
    "data = pd.DataFrame()\n",
    "for i in stock_code2:\n",
    "    a = THS_HF(i,'close','Fill:Original,Interval:30','2013-01-31 09:00:00','2023-02-01 17:00:00').data\n",
    "    data=pd.concat([data,a])"
   ],
   "metadata": {
    "collapsed": false
   }
  },
  {
   "cell_type": "code",
   "execution_count": 110,
   "outputs": [
    {
     "data": {
      "text/plain": "                      time    thscode   close  year month        date     lag  \\\n0         2013-01-31 10:30  600519.SH  179.18  2013    01  2013-01-31  178.20   \n1         2013-01-31 11:00  600519.SH  180.25  2013    01  2013-01-31  179.18   \n2         2013-01-31 11:30  600519.SH  179.22  2013    01  2013-01-31  180.25   \n3         2013-01-31 13:30  600519.SH  179.54  2013    01  2013-01-31  179.22   \n4         2013-01-31 14:00  600519.SH  179.93  2013    01  2013-01-31  179.54   \n...                    ...        ...     ...   ...   ...         ...     ...   \n12232534  2023-02-01 10:00  002901.SZ   36.01  2023    02  2023-02-01   35.79   \n12232535  2023-02-01 10:30  002901.SZ   37.11  2023    02  2023-02-01   36.01   \n12232536  2023-02-01 11:00  002901.SZ   36.86  2023    02  2023-02-01   37.11   \n12232537  2023-02-01 11:30  002901.SZ   36.89  2023    02  2023-02-01   36.86   \n12232538  2023-02-01 13:30  002901.SZ   36.83  2023    02  2023-02-01   36.89   \n\n            return  daily std  \n0         0.005499   0.006588  \n1         0.005972   0.006588  \n2        -0.005714   0.006588  \n3         0.001786   0.006588  \n4         0.002172   0.006588  \n...            ...        ...  \n12232534  0.006147   0.008413  \n12232535  0.030547   0.008413  \n12232536 -0.006737   0.008413  \n12232537  0.000814   0.008413  \n12232538 -0.001626   0.008413  \n\n[12232539 rows x 9 columns]",
      "text/html": "<div>\n<style scoped>\n    .dataframe tbody tr th:only-of-type {\n        vertical-align: middle;\n    }\n\n    .dataframe tbody tr th {\n        vertical-align: top;\n    }\n\n    .dataframe thead th {\n        text-align: right;\n    }\n</style>\n<table border=\"1\" class=\"dataframe\">\n  <thead>\n    <tr style=\"text-align: right;\">\n      <th></th>\n      <th>time</th>\n      <th>thscode</th>\n      <th>close</th>\n      <th>year</th>\n      <th>month</th>\n      <th>date</th>\n      <th>lag</th>\n      <th>return</th>\n      <th>daily std</th>\n    </tr>\n  </thead>\n  <tbody>\n    <tr>\n      <th>0</th>\n      <td>2013-01-31 10:30</td>\n      <td>600519.SH</td>\n      <td>179.18</td>\n      <td>2013</td>\n      <td>01</td>\n      <td>2013-01-31</td>\n      <td>178.20</td>\n      <td>0.005499</td>\n      <td>0.006588</td>\n    </tr>\n    <tr>\n      <th>1</th>\n      <td>2013-01-31 11:00</td>\n      <td>600519.SH</td>\n      <td>180.25</td>\n      <td>2013</td>\n      <td>01</td>\n      <td>2013-01-31</td>\n      <td>179.18</td>\n      <td>0.005972</td>\n      <td>0.006588</td>\n    </tr>\n    <tr>\n      <th>2</th>\n      <td>2013-01-31 11:30</td>\n      <td>600519.SH</td>\n      <td>179.22</td>\n      <td>2013</td>\n      <td>01</td>\n      <td>2013-01-31</td>\n      <td>180.25</td>\n      <td>-0.005714</td>\n      <td>0.006588</td>\n    </tr>\n    <tr>\n      <th>3</th>\n      <td>2013-01-31 13:30</td>\n      <td>600519.SH</td>\n      <td>179.54</td>\n      <td>2013</td>\n      <td>01</td>\n      <td>2013-01-31</td>\n      <td>179.22</td>\n      <td>0.001786</td>\n      <td>0.006588</td>\n    </tr>\n    <tr>\n      <th>4</th>\n      <td>2013-01-31 14:00</td>\n      <td>600519.SH</td>\n      <td>179.93</td>\n      <td>2013</td>\n      <td>01</td>\n      <td>2013-01-31</td>\n      <td>179.54</td>\n      <td>0.002172</td>\n      <td>0.006588</td>\n    </tr>\n    <tr>\n      <th>...</th>\n      <td>...</td>\n      <td>...</td>\n      <td>...</td>\n      <td>...</td>\n      <td>...</td>\n      <td>...</td>\n      <td>...</td>\n      <td>...</td>\n      <td>...</td>\n    </tr>\n    <tr>\n      <th>12232534</th>\n      <td>2023-02-01 10:00</td>\n      <td>002901.SZ</td>\n      <td>36.01</td>\n      <td>2023</td>\n      <td>02</td>\n      <td>2023-02-01</td>\n      <td>35.79</td>\n      <td>0.006147</td>\n      <td>0.008413</td>\n    </tr>\n    <tr>\n      <th>12232535</th>\n      <td>2023-02-01 10:30</td>\n      <td>002901.SZ</td>\n      <td>37.11</td>\n      <td>2023</td>\n      <td>02</td>\n      <td>2023-02-01</td>\n      <td>36.01</td>\n      <td>0.030547</td>\n      <td>0.008413</td>\n    </tr>\n    <tr>\n      <th>12232536</th>\n      <td>2023-02-01 11:00</td>\n      <td>002901.SZ</td>\n      <td>36.86</td>\n      <td>2023</td>\n      <td>02</td>\n      <td>2023-02-01</td>\n      <td>37.11</td>\n      <td>-0.006737</td>\n      <td>0.008413</td>\n    </tr>\n    <tr>\n      <th>12232537</th>\n      <td>2023-02-01 11:30</td>\n      <td>002901.SZ</td>\n      <td>36.89</td>\n      <td>2023</td>\n      <td>02</td>\n      <td>2023-02-01</td>\n      <td>36.86</td>\n      <td>0.000814</td>\n      <td>0.008413</td>\n    </tr>\n    <tr>\n      <th>12232538</th>\n      <td>2023-02-01 13:30</td>\n      <td>002901.SZ</td>\n      <td>36.83</td>\n      <td>2023</td>\n      <td>02</td>\n      <td>2023-02-01</td>\n      <td>36.89</td>\n      <td>-0.001626</td>\n      <td>0.008413</td>\n    </tr>\n  </tbody>\n</table>\n<p>12232539 rows × 9 columns</p>\n</div>"
     },
     "execution_count": 110,
     "metadata": {},
     "output_type": "execute_result"
    }
   ],
   "source": [
    "data"
   ],
   "metadata": {
    "collapsed": false
   }
  },
  {
   "cell_type": "code",
   "execution_count": 61,
   "outputs": [],
   "source": [
    "# 加入月，日\n",
    "data['year'] = data['time'].apply(lambda x: x.split('-')[0])\n",
    "data['month'] = data['time'].apply(lambda x: x.split('-')[1])"
   ],
   "metadata": {
    "collapsed": false
   }
  },
  {
   "cell_type": "code",
   "execution_count": 72,
   "outputs": [
    {
     "name": "stderr",
     "output_type": "stream",
     "text": [
      "F:\\Users\\Xuwei\\AppData\\Local\\Temp\\ipykernel_48704\\650977868.py:1: SettingWithCopyWarning: \n",
      "A value is trying to be set on a copy of a slice from a DataFrame.\n",
      "Try using .loc[row_indexer,col_indexer] = value instead\n",
      "\n",
      "See the caveats in the documentation: https://pandas.pydata.org/pandas-docs/stable/user_guide/indexing.html#returning-a-view-versus-a-copy\n",
      "  data['date'] = data['time'].str[:10]\n"
     ]
    }
   ],
   "source": [
    "data['date'] = data['time'].str[:10]"
   ],
   "metadata": {
    "collapsed": false
   }
  },
  {
   "cell_type": "code",
   "execution_count": 64,
   "outputs": [],
   "source": [
    "# 计算回报\n",
    "data['lag'] = data.groupby(['thscode'])['close'].shift(1)"
   ],
   "metadata": {
    "collapsed": false
   }
  },
  {
   "cell_type": "code",
   "execution_count": 65,
   "outputs": [],
   "source": [
    "data['return'] = (data['close']-data['lag'])/data['lag']"
   ],
   "metadata": {
    "collapsed": false
   }
  },
  {
   "cell_type": "code",
   "execution_count": 67,
   "outputs": [],
   "source": [
    "data = data.dropna()"
   ],
   "metadata": {
    "collapsed": false
   }
  },
  {
   "cell_type": "code",
   "execution_count": 80,
   "outputs": [],
   "source": [
    "# 计算日标准差\n",
    "std = data.groupby(['date'])['return'].std().reset_index()\n",
    "std = std.rename(columns={'return':'daily std'})\n",
    "data = pd.merge(data,std,on='date',how='left')\n",
    "std['month'] = std['date'].str[:7]"
   ],
   "metadata": {
    "collapsed": false
   }
  },
  {
   "cell_type": "code",
   "execution_count": 97,
   "outputs": [],
   "source": [
    "# 得到离散度\n",
    "std_monthly = std.groupby('month')['daily std'].mean().reset_index()\n",
    "std_monthly = std_monthly.rename(columns={'daily std':'monthly std'})"
   ],
   "metadata": {
    "collapsed": false
   }
  },
  {
   "cell_type": "code",
   "execution_count": 109,
   "outputs": [
    {
     "data": {
      "text/plain": "False"
     },
     "execution_count": 109,
     "metadata": {},
     "output_type": "execute_result"
    }
   ],
   "source": [
    "# 计算高/低离散度\n",
    "list(std_monthly['monthly std'])[-1]>mean(list(std_monthly['monthly std'])[:-1])"
   ],
   "metadata": {
    "collapsed": false
   }
  }
 ],
 "metadata": {
  "kernelspec": {
   "display_name": "Python 3",
   "language": "python",
   "name": "python3"
  },
  "language_info": {
   "codemirror_mode": {
    "name": "ipython",
    "version": 2
   },
   "file_extension": ".py",
   "mimetype": "text/x-python",
   "name": "python",
   "nbconvert_exporter": "python",
   "pygments_lexer": "ipython2",
   "version": "2.7.6"
  }
 },
 "nbformat": 4,
 "nbformat_minor": 0
}

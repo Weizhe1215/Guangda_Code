{
 "cells": [
  {
   "cell_type": "code",
   "execution_count": 1,
   "outputs": [],
   "source": [
    "# 导入同花顺包和登录同花顺"
   ],
   "metadata": {
    "collapsed": false
   }
  },
  {
   "cell_type": "code",
   "execution_count": 1,
   "outputs": [
    {
     "name": "stdout",
     "output_type": "stream",
     "text": [
      "C:\\Users\\Xuwei\\anaconda3\\Lib\\site-packages\\iFinDPy.pth\n"
     ]
    },
    {
     "data": {
      "text/plain": "0"
     },
     "execution_count": 1,
     "metadata": {},
     "output_type": "execute_result"
    }
   ],
   "source": [
    "import pandas as pd\n",
    "from iFinDPy import *\n",
    "THS_iFinDLogin(\"gdzq6888\",\"199212\")"
   ],
   "metadata": {
    "collapsed": false
   }
  },
  {
   "cell_type": "code",
   "execution_count": 11,
   "outputs": [],
   "source": [
    "# 定义方程\n",
    "## 基金编码的格式如下：\"003567.OF\"\n",
    "## 日期的格式如下：\n",
    "##      年中：\"XXXX-06-30\",\n",
    "##      年末：\"XXXX-12-31\"\n",
    "def fund_limit_ratio(fundcode, time):\n",
    "    #获取基金持股数据\n",
    "    position_data = pd.DataFrame(THS_DP('fund_asset_allocation_stock_holding',fundcode+';'+time,'fund_code:Y,fund_name:Y,report:Y,stock_code:Y,stock_name:Y,hold_num_stock:Y,hold_num_change_stock:Y,hold_num_ratio_float_stock:Y,hold_stock_amount:Y,net_value_ratio:Y,stock_mv_ratio:Y,investment_type:Y,management_company:Y').data)\n",
    "\n",
    "    #获取持仓股票代码\n",
    "    stock_code = str(list(position_data['stock_code'])).strip(\"[]\")\n",
    "\n",
    "    #根据股票代码获取市值和基金规模\n",
    "    ## 股票市值\n",
    "    market_value = THS_BD(stock_code,'ths_market_value_stock',time).data\n",
    "    market_value = market_value.rename(columns={\"thscode\": \"stock_code\"})\n",
    "    ## 基金规模\n",
    "    fund_value = THS_BD(fundcode, 'ths_mergesize_fund',time).data\n",
    "    fund_value = fund_value.rename(columns={\"thscode\": \"fund_code\"})\n",
    "\n",
    "    #将市值和股票持仓数据合并\n",
    "    merged_data = pd.merge(position_data,market_value,on='stock_code',how='left')\n",
    "    merged_data = pd.merge(merged_data,fund_value,on='fund_code',how='left')\n",
    "\n",
    "    # 添加举牌线限额和加权举牌线限额\n",
    "    merged_data['举牌线限额'] = merged_data['ths_market_value_stock']*0.05\n",
    "    merged_data['加权举牌线限额'] = merged_data['举牌线限额']*merged_data['stock_mv_ratio']/100\n",
    "\n",
    "    # 与基金净值进行对比并计算比值\n",
    "    sum_weighted_limit = sum(merged_data['加权举牌线限额'])\n",
    "    limit_ratio = (merged_data['ths_mergesize_fund'].mean())/sum_weighted_limit\n",
    "\n",
    "    print(\"基金\"+ fundcode + \"的加权举牌限额为\" + str(sum_weighted_limit) + \", 其净值为\" + str(merged_data['ths_mergesize_fund'].mean()))\n",
    "    print(\"基金\"+ fundcode + \"的基金净值与加权举牌限额的比值为\" + str(limit_ratio))\n",
    "    return\n",
    "\n"
   ],
   "metadata": {
    "collapsed": false
   }
  },
  {
   "cell_type": "markdown",
   "source": [
    "# Example"
   ],
   "metadata": {
    "collapsed": false
   }
  },
  {
   "cell_type": "code",
   "execution_count": 12,
   "outputs": [
    {
     "name": "stdout",
     "output_type": "stream",
     "text": [
      "基金003567.OF的加权举牌限额为1141979857.4767132, 其净值为11166356687.780022\n",
      "基金003567.OF的基金净值与加权举牌限额的比值为9.7780679883907\n"
     ]
    }
   ],
   "source": [
    "# 华夏行业景气混合\n",
    "fund_limit_ratio('003567.OF','2022-06-30')"
   ],
   "metadata": {
    "collapsed": false
   }
  },
  {
   "cell_type": "code",
   "execution_count": 13,
   "outputs": [
    {
     "name": "stdout",
     "output_type": "stream",
     "text": [
      "基金003095.OF的加权举牌限额为7020335741.04723, 其净值为71081438409.62009\n",
      "基金003095.OF的基金净值与加权举牌限额的比值为10.125076781444188\n"
     ]
    }
   ],
   "source": [
    "# 中欧医疗健康混合\n",
    "fund_limit_ratio('003095.OF','2022-06-30')"
   ],
   "metadata": {
    "collapsed": false
   }
  }
 ],
 "metadata": {
  "kernelspec": {
   "display_name": "Python 3",
   "language": "python",
   "name": "python3"
  },
  "language_info": {
   "codemirror_mode": {
    "name": "ipython",
    "version": 2
   },
   "file_extension": ".py",
   "mimetype": "text/x-python",
   "name": "python",
   "nbconvert_exporter": "python",
   "pygments_lexer": "ipython2",
   "version": "2.7.6"
  }
 },
 "nbformat": 4,
 "nbformat_minor": 0
}
